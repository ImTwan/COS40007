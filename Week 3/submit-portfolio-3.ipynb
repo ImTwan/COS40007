{
 "cells": [
  {
   "cell_type": "code",
   "execution_count": 1,
   "id": "e8cda08e",
   "metadata": {
    "_cell_guid": "6d3aafca-ddb5-4767-8fc6-4dc240fde411",
    "_uuid": "735864a2-f56d-4021-8e77-c628bf55f625",
    "collapsed": false,
    "execution": {
     "iopub.execute_input": "2025-01-20T18:50:29.355659Z",
     "iopub.status.busy": "2025-01-20T18:50:29.355209Z",
     "iopub.status.idle": "2025-01-20T18:50:30.405433Z",
     "shell.execute_reply": "2025-01-20T18:50:30.404122Z"
    },
    "jupyter": {
     "outputs_hidden": false
    },
    "papermill": {
     "duration": 1.063283,
     "end_time": "2025-01-20T18:50:30.407306",
     "exception": false,
     "start_time": "2025-01-20T18:50:29.344023",
     "status": "completed"
    },
    "tags": []
   },
   "outputs": [
    {
     "name": "stdout",
     "output_type": "stream",
     "text": [
      "/kaggle/input/portfolio3/Boning.csv\n",
      "/kaggle/input/portfolio3/Slicing.csv\n"
     ]
    }
   ],
   "source": [
    "# This Python 3 environment comes with many helpful analytics libraries installed\n",
    "# It is defined by the kaggle/python Docker image: https://github.com/kaggle/docker-python\n",
    "# For example, here's several helpful packages to load\n",
    "\n",
    "import numpy as np # linear algebra\n",
    "import pandas as pd # output_features processing, CSV file I/O (e.g. pd.read_csv)\n",
    "\n",
    "# Input output_features files are available in the read-only \"../input/\" directory\n",
    "# For example, running this (by clicking run or pressing Shift+Enter) will list all files under the input directory\n",
    "\n",
    "import os\n",
    "for dirname, _, filenames in os.walk('/kaggle/input'):\n",
    "    for filename in filenames:\n",
    "        print(os.path.join(dirname, filename))\n",
    "\n",
    "# You can write up to 20GB to the current directory (/kaggle/working/) that gets preserved as output_features when you create a version using \"Save & Run All\" \n",
    "# You can also write temporary files to /kaggle/temp/, but they won't be saved outside of the current session"
   ]
  },
  {
   "cell_type": "markdown",
   "id": "f09f5a70",
   "metadata": {
    "_cell_guid": "216c4219-b278-4759-ad58-b0ff576e633e",
    "_uuid": "bec4d9cb-9d8d-4d16-9647-35fe87cc57c3",
    "collapsed": false,
    "jupyter": {
     "outputs_hidden": false
    },
    "papermill": {
     "duration": 0.007978,
     "end_time": "2025-01-20T18:50:30.424559",
     "exception": false,
     "start_time": "2025-01-20T18:50:30.416581",
     "status": "completed"
    },
    "tags": []
   },
   "source": [
    "#  STEP 1: DATA COLLECTION"
   ]
  },
  {
   "cell_type": "code",
   "execution_count": 2,
   "id": "67117faf",
   "metadata": {
    "_cell_guid": "56039bdc-69ee-4232-81a1-58d4dc7b95ff",
    "_uuid": "97cd5525-0405-4738-8fbb-bea18c034d17",
    "collapsed": false,
    "execution": {
     "iopub.execute_input": "2025-01-20T18:50:30.443118Z",
     "iopub.status.busy": "2025-01-20T18:50:30.442558Z",
     "iopub.status.idle": "2025-01-20T18:50:32.310018Z",
     "shell.execute_reply": "2025-01-20T18:50:32.308609Z"
    },
    "jupyter": {
     "outputs_hidden": false
    },
    "papermill": {
     "duration": 1.879306,
     "end_time": "2025-01-20T18:50:32.312564",
     "exception": false,
     "start_time": "2025-01-20T18:50:30.433258",
     "status": "completed"
    },
    "tags": []
   },
   "outputs": [],
   "source": [
    "boning = pd.read_csv('/kaggle/input/portfolio3/Boning.csv')\n",
    "slicing = pd.read_csv('/kaggle/input/portfolio3/Slicing.csv')\n",
    "\n",
    "boning['Class'] = 0\n",
    "slicing['Class'] = 1\n",
    "\n",
    "combined = pd.concat([boning, slicing], ignore_index=True)\n",
    "\n",
    "selected_columns = ['Frame', 'L5 x', 'L5 y', 'L5 z', \n",
    "                    'T12 x', 'T12 y', 'T12 z', 'Class']\n",
    "\n",
    "combined = combined[selected_columns]"
   ]
  },
  {
   "cell_type": "code",
   "execution_count": 3,
   "id": "2cad3428",
   "metadata": {
    "_cell_guid": "f0b117fe-ebf7-4145-81cd-01e0145f7f32",
    "_uuid": "7fbbae31-e468-4fed-91df-1adac1988dc4",
    "collapsed": false,
    "execution": {
     "iopub.execute_input": "2025-01-20T18:50:32.332202Z",
     "iopub.status.busy": "2025-01-20T18:50:32.331749Z",
     "iopub.status.idle": "2025-01-20T18:50:32.353086Z",
     "shell.execute_reply": "2025-01-20T18:50:32.351818Z"
    },
    "jupyter": {
     "outputs_hidden": false
    },
    "papermill": {
     "duration": 0.033363,
     "end_time": "2025-01-20T18:50:32.355175",
     "exception": false,
     "start_time": "2025-01-20T18:50:32.321812",
     "status": "completed"
    },
    "tags": []
   },
   "outputs": [
    {
     "data": {
      "text/html": [
       "<div>\n",
       "<style scoped>\n",
       "    .dataframe tbody tr th:only-of-type {\n",
       "        vertical-align: middle;\n",
       "    }\n",
       "\n",
       "    .dataframe tbody tr th {\n",
       "        vertical-align: top;\n",
       "    }\n",
       "\n",
       "    .dataframe thead th {\n",
       "        text-align: right;\n",
       "    }\n",
       "</style>\n",
       "<table border=\"1\" class=\"dataframe\">\n",
       "  <thead>\n",
       "    <tr style=\"text-align: right;\">\n",
       "      <th></th>\n",
       "      <th>Frame</th>\n",
       "      <th>L5 x</th>\n",
       "      <th>L5 y</th>\n",
       "      <th>L5 z</th>\n",
       "      <th>T12 x</th>\n",
       "      <th>T12 y</th>\n",
       "      <th>T12 z</th>\n",
       "      <th>Class</th>\n",
       "    </tr>\n",
       "  </thead>\n",
       "  <tbody>\n",
       "    <tr>\n",
       "      <th>0</th>\n",
       "      <td>0</td>\n",
       "      <td>0.052654</td>\n",
       "      <td>0.039386</td>\n",
       "      <td>-0.077002</td>\n",
       "      <td>0.099458</td>\n",
       "      <td>0.074396</td>\n",
       "      <td>-0.145448</td>\n",
       "      <td>0</td>\n",
       "    </tr>\n",
       "    <tr>\n",
       "      <th>1</th>\n",
       "      <td>1</td>\n",
       "      <td>-0.053525</td>\n",
       "      <td>0.117279</td>\n",
       "      <td>0.150245</td>\n",
       "      <td>-0.103594</td>\n",
       "      <td>0.226658</td>\n",
       "      <td>0.284348</td>\n",
       "      <td>0</td>\n",
       "    </tr>\n",
       "    <tr>\n",
       "      <th>2</th>\n",
       "      <td>2</td>\n",
       "      <td>0.073929</td>\n",
       "      <td>-0.022381</td>\n",
       "      <td>0.032701</td>\n",
       "      <td>0.137189</td>\n",
       "      <td>-0.036791</td>\n",
       "      <td>0.061717</td>\n",
       "      <td>0</td>\n",
       "    </tr>\n",
       "    <tr>\n",
       "      <th>3</th>\n",
       "      <td>3</td>\n",
       "      <td>-0.037295</td>\n",
       "      <td>-0.009975</td>\n",
       "      <td>0.015846</td>\n",
       "      <td>-0.028150</td>\n",
       "      <td>0.017239</td>\n",
       "      <td>0.061258</td>\n",
       "      <td>0</td>\n",
       "    </tr>\n",
       "    <tr>\n",
       "      <th>4</th>\n",
       "      <td>4</td>\n",
       "      <td>0.091745</td>\n",
       "      <td>-0.014404</td>\n",
       "      <td>0.054168</td>\n",
       "      <td>0.172983</td>\n",
       "      <td>-0.023023</td>\n",
       "      <td>0.102274</td>\n",
       "      <td>0</td>\n",
       "    </tr>\n",
       "  </tbody>\n",
       "</table>\n",
       "</div>"
      ],
      "text/plain": [
       "   Frame      L5 x      L5 y      L5 z     T12 x     T12 y     T12 z  Class\n",
       "0      0  0.052654  0.039386 -0.077002  0.099458  0.074396 -0.145448      0\n",
       "1      1 -0.053525  0.117279  0.150245 -0.103594  0.226658  0.284348      0\n",
       "2      2  0.073929 -0.022381  0.032701  0.137189 -0.036791  0.061717      0\n",
       "3      3 -0.037295 -0.009975  0.015846 -0.028150  0.017239  0.061258      0\n",
       "4      4  0.091745 -0.014404  0.054168  0.172983 -0.023023  0.102274      0"
      ]
     },
     "execution_count": 3,
     "metadata": {},
     "output_type": "execute_result"
    }
   ],
   "source": [
    "combined.head()"
   ]
  },
  {
   "cell_type": "code",
   "execution_count": 4,
   "id": "40483c99",
   "metadata": {
    "_cell_guid": "b741be4f-0ca1-4f15-8bf2-29824d7e2914",
    "_uuid": "a4490fe1-ab0e-4740-b4e7-72d3c07d35fb",
    "collapsed": false,
    "execution": {
     "iopub.execute_input": "2025-01-20T18:50:32.374881Z",
     "iopub.status.busy": "2025-01-20T18:50:32.374426Z",
     "iopub.status.idle": "2025-01-20T18:50:32.402308Z",
     "shell.execute_reply": "2025-01-20T18:50:32.400843Z"
    },
    "jupyter": {
     "outputs_hidden": false
    },
    "papermill": {
     "duration": 0.040108,
     "end_time": "2025-01-20T18:50:32.404620",
     "exception": false,
     "start_time": "2025-01-20T18:50:32.364512",
     "status": "completed"
    },
    "tags": []
   },
   "outputs": [
    {
     "name": "stdout",
     "output_type": "stream",
     "text": [
      "<class 'pandas.core.frame.DataFrame'>\n",
      "RangeIndex: 72060 entries, 0 to 72059\n",
      "Data columns (total 8 columns):\n",
      " #   Column  Non-Null Count  Dtype  \n",
      "---  ------  --------------  -----  \n",
      " 0   Frame   72060 non-null  int64  \n",
      " 1   L5 x    72060 non-null  float64\n",
      " 2   L5 y    72060 non-null  float64\n",
      " 3   L5 z    72060 non-null  float64\n",
      " 4   T12 x   72060 non-null  float64\n",
      " 5   T12 y   72060 non-null  float64\n",
      " 6   T12 z   72060 non-null  float64\n",
      " 7   Class   72060 non-null  int64  \n",
      "dtypes: float64(6), int64(2)\n",
      "memory usage: 4.4 MB\n"
     ]
    }
   ],
   "source": [
    "combined.info()"
   ]
  },
  {
   "cell_type": "markdown",
   "id": "dceaa06d",
   "metadata": {
    "_cell_guid": "e13cb159-520a-4174-a7de-9153540c6dde",
    "_uuid": "6ced4036-ada0-425f-8eed-8b4041ff4a14",
    "collapsed": false,
    "jupyter": {
     "outputs_hidden": false
    },
    "papermill": {
     "duration": 0.008863,
     "end_time": "2025-01-20T18:50:32.423224",
     "exception": false,
     "start_time": "2025-01-20T18:50:32.414361",
     "status": "completed"
    },
    "tags": []
   },
   "source": [
    "# STEP 2: CREATE NEW COMPOSITE FEATURE"
   ]
  },
  {
   "cell_type": "code",
   "execution_count": 5,
   "id": "8dc94eb5",
   "metadata": {
    "execution": {
     "iopub.execute_input": "2025-01-20T18:50:32.443300Z",
     "iopub.status.busy": "2025-01-20T18:50:32.442884Z",
     "iopub.status.idle": "2025-01-20T18:50:32.520998Z",
     "shell.execute_reply": "2025-01-20T18:50:32.519574Z"
    },
    "papermill": {
     "duration": 0.090525,
     "end_time": "2025-01-20T18:50:32.523048",
     "exception": false,
     "start_time": "2025-01-20T18:50:32.432523",
     "status": "completed"
    },
    "tags": []
   },
   "outputs": [],
   "source": [
    "def computed_compo_feat(df):\n",
    "    composite_feature = {}\n",
    "\n",
    "    #  L5\n",
    "    composite_feature['RMS_xy_L5'] = np.sqrt(df['L5 x']**2 + df['L5 y']**2)\n",
    "    composite_feature['RMS_yz_L5'] = np.sqrt(df['L5 y']**2 + df['L5 z']**2)\n",
    "    composite_feature['RMS_zx_L5'] = np.sqrt(df['L5 z']**2 + df['L5 x']**2)\n",
    "    composite_feature['RMS_xyz_L5'] = np.sqrt(df['L5 x']**2 + df['L5 y']**2 + df['L5 z']**2)\n",
    "    composite_feature['Roll_L5'] = 180 * np.arctan2(df['L5 y'], np.sqrt(df['L5 x']**2 + df['L5 z']**2)) / np.pi\n",
    "    composite_feature['Pitch_L5'] = 180 * np.arctan2(df['L5 x'], np.sqrt(df['L5 y']**2 + df['L5 z']**2)) / np.pi\n",
    "\n",
    "    # T12\n",
    "    composite_feature['RMS_xy_T12'] = np.sqrt(df['T12 x']**2 + df['T12 y']**2)\n",
    "    composite_feature['RMS_yz_T12'] = np.sqrt(df['T12 y']**2 + df['T12 z']**2)\n",
    "    composite_feature['RMS_zx_T12'] = np.sqrt(df['T12 z']**2 + df['T12 x']**2)\n",
    "    composite_feature['RMS_xyz_T12'] = np.sqrt(df['T12 x']**2 + df['T12 y']**2 + df['T12 z']**2)\n",
    "    composite_feature['Roll_T12'] = 180 * np.arctan2(df['T12 y'], np.sqrt(df['T12 x']**2 + df['T12 z']**2)) / np.pi\n",
    "    composite_feature['Pitch_T12'] = 180 * np.arctan2(df['T12 x'], np.sqrt(df['T12 y']**2 + df['T12 z']**2)) / np.pi\n",
    "\n",
    "    # Update composite columns to DataFrame\n",
    "    for key, value in composite_feature.items():\n",
    "        df[key] = value\n",
    "\n",
    "    return df\n",
    "\n",
    "combined = computed_compo_feat(combined)\n",
    "\n",
    "# Update order\n",
    "order = ['Frame', 'L5 x', 'L5 y', 'L5 z', 'T12 x', 'T12 y', 'T12 z',\n",
    "                 'RMS_xy_L5', 'RMS_yz_L5', 'RMS_zx_L5', 'RMS_xyz_L5', 'Roll_L5', 'Pitch_L5',\n",
    "                 'RMS_xy_T12', 'RMS_yz_T12', 'RMS_zx_T12', 'RMS_xyz_T12', 'Roll_T12', 'Pitch_T12',\n",
    "                 'Class']\n",
    "combined = combined[order]"
   ]
  },
  {
   "cell_type": "code",
   "execution_count": 6,
   "id": "9902a35b",
   "metadata": {
    "_cell_guid": "4cdf3fce-37e5-4ee3-a226-845dae4a0bca",
    "_uuid": "79344bff-096f-4278-b4ec-fdce0bb4e053",
    "collapsed": false,
    "execution": {
     "iopub.execute_input": "2025-01-20T18:50:32.542738Z",
     "iopub.status.busy": "2025-01-20T18:50:32.542312Z",
     "iopub.status.idle": "2025-01-20T18:50:32.563871Z",
     "shell.execute_reply": "2025-01-20T18:50:32.562263Z"
    },
    "jupyter": {
     "outputs_hidden": false
    },
    "papermill": {
     "duration": 0.033404,
     "end_time": "2025-01-20T18:50:32.565733",
     "exception": false,
     "start_time": "2025-01-20T18:50:32.532329",
     "status": "completed"
    },
    "tags": []
   },
   "outputs": [
    {
     "name": "stdout",
     "output_type": "stream",
     "text": [
      "<class 'pandas.core.frame.DataFrame'>\n",
      "RangeIndex: 72060 entries, 0 to 72059\n",
      "Data columns (total 20 columns):\n",
      " #   Column       Non-Null Count  Dtype  \n",
      "---  ------       --------------  -----  \n",
      " 0   Frame        72060 non-null  int64  \n",
      " 1   L5 x         72060 non-null  float64\n",
      " 2   L5 y         72060 non-null  float64\n",
      " 3   L5 z         72060 non-null  float64\n",
      " 4   T12 x        72060 non-null  float64\n",
      " 5   T12 y        72060 non-null  float64\n",
      " 6   T12 z        72060 non-null  float64\n",
      " 7   RMS_xy_L5    72060 non-null  float64\n",
      " 8   RMS_yz_L5    72060 non-null  float64\n",
      " 9   RMS_zx_L5    72060 non-null  float64\n",
      " 10  RMS_xyz_L5   72060 non-null  float64\n",
      " 11  Roll_L5      72060 non-null  float64\n",
      " 12  Pitch_L5     72060 non-null  float64\n",
      " 13  RMS_xy_T12   72060 non-null  float64\n",
      " 14  RMS_yz_T12   72060 non-null  float64\n",
      " 15  RMS_zx_T12   72060 non-null  float64\n",
      " 16  RMS_xyz_T12  72060 non-null  float64\n",
      " 17  Roll_T12     72060 non-null  float64\n",
      " 18  Pitch_T12    72060 non-null  float64\n",
      " 19  Class        72060 non-null  int64  \n",
      "dtypes: float64(18), int64(2)\n",
      "memory usage: 11.0 MB\n"
     ]
    }
   ],
   "source": [
    "combined.info()"
   ]
  },
  {
   "cell_type": "markdown",
   "id": "50bdf6fc",
   "metadata": {
    "_cell_guid": "32ce0a79-1a7e-4c6b-b319-0af649904528",
    "_uuid": "19c8f627-07f4-4f8c-82a0-f3c62c45e2bf",
    "collapsed": false,
    "jupyter": {
     "outputs_hidden": false
    },
    "papermill": {
     "duration": 0.008258,
     "end_time": "2025-01-20T18:50:32.582864",
     "exception": false,
     "start_time": "2025-01-20T18:50:32.574606",
     "status": "completed"
    },
    "tags": []
   },
   "source": [
    "# STEP 3: DATA-PREPROCESSING"
   ]
  },
  {
   "cell_type": "code",
   "execution_count": 7,
   "id": "64a717c5",
   "metadata": {
    "_cell_guid": "85f31b77-886b-473b-9f36-d9f36894ee32",
    "_uuid": "5d0f689a-379e-4e52-8de3-5633ca1fac10",
    "collapsed": false,
    "execution": {
     "iopub.execute_input": "2025-01-20T18:50:32.602427Z",
     "iopub.status.busy": "2025-01-20T18:50:32.602014Z",
     "iopub.status.idle": "2025-01-20T18:50:36.347101Z",
     "shell.execute_reply": "2025-01-20T18:50:36.345712Z"
    },
    "jupyter": {
     "outputs_hidden": false
    },
    "papermill": {
     "duration": 3.757827,
     "end_time": "2025-01-20T18:50:36.349423",
     "exception": false,
     "start_time": "2025-01-20T18:50:32.591596",
     "status": "completed"
    },
    "tags": []
   },
   "outputs": [],
   "source": [
    "from scipy.signal import find_peaks\n",
    "\n",
    "def extract_features(df):\n",
    "    extracted_features = []\n",
    "    processed_cols = [col for col in df.columns if col not in ['Frame', 'Class']]\n",
    "    \n",
    "    for col in processed_cols:\n",
    "        grouped_data = df.groupby(df.index // 60)[col]  # Group by 60 frames per minute\n",
    "        extracted_features.append(grouped_data.mean().rename(f'{col}_mean')) # MEAN \n",
    "        extracted_features.append(grouped_data.std().rename(f'{col}_std')) #STD \n",
    "        extracted_features.append(grouped_data.min().rename(f'{col}_min')) #MIN \n",
    "        extracted_features.append(grouped_data.max().rename(f'{col}_max')) # MAX\n",
    "        extracted_features.append(grouped_data.apply(np.trapz).rename(f'{col}_auc'))  # AUC\n",
    "        extracted_features.append(grouped_data.apply(lambda x: len(find_peaks(x)[0])).rename(f'{col}_peaks')) #PEAK\n",
    "    \n",
    "    features_df = pd.concat(extracted_features, axis=1)\n",
    "    return features_df\n",
    "\n",
    "# Compute features\n",
    "output_features = extract_features(combined)\n",
    "\n",
    "# Add class column back to features_df\n",
    "output_features['Class'] = combined['Class'].groupby(combined.index // 60).first().values"
   ]
  },
  {
   "cell_type": "code",
   "execution_count": 8,
   "id": "321f0dd0",
   "metadata": {
    "_cell_guid": "d955b622-721a-4e42-8397-cee9b88af265",
    "_uuid": "0ed40ebb-e6ee-4c2d-bada-98a21e1b5f12",
    "collapsed": false,
    "execution": {
     "iopub.execute_input": "2025-01-20T18:50:36.369612Z",
     "iopub.status.busy": "2025-01-20T18:50:36.369064Z",
     "iopub.status.idle": "2025-01-20T18:50:36.384933Z",
     "shell.execute_reply": "2025-01-20T18:50:36.383165Z"
    },
    "jupyter": {
     "outputs_hidden": false
    },
    "papermill": {
     "duration": 0.028443,
     "end_time": "2025-01-20T18:50:36.387166",
     "exception": false,
     "start_time": "2025-01-20T18:50:36.358723",
     "status": "completed"
    },
    "tags": []
   },
   "outputs": [
    {
     "name": "stdout",
     "output_type": "stream",
     "text": [
      "<class 'pandas.core.frame.DataFrame'>\n",
      "Index: 1201 entries, 0 to 1200\n",
      "Columns: 109 entries, L5 x_mean to Class\n",
      "dtypes: float64(90), int64(19)\n",
      "memory usage: 1.0 MB\n"
     ]
    }
   ],
   "source": [
    "output_features.info()"
   ]
  },
  {
   "cell_type": "code",
   "execution_count": 9,
   "id": "fd4486bb",
   "metadata": {
    "execution": {
     "iopub.execute_input": "2025-01-20T18:50:36.408016Z",
     "iopub.status.busy": "2025-01-20T18:50:36.407534Z",
     "iopub.status.idle": "2025-01-20T18:50:36.434522Z",
     "shell.execute_reply": "2025-01-20T18:50:36.432928Z"
    },
    "papermill": {
     "duration": 0.040029,
     "end_time": "2025-01-20T18:50:36.436960",
     "exception": false,
     "start_time": "2025-01-20T18:50:36.396931",
     "status": "completed"
    },
    "tags": []
   },
   "outputs": [
    {
     "data": {
      "text/html": [
       "<div>\n",
       "<style scoped>\n",
       "    .dataframe tbody tr th:only-of-type {\n",
       "        vertical-align: middle;\n",
       "    }\n",
       "\n",
       "    .dataframe tbody tr th {\n",
       "        vertical-align: top;\n",
       "    }\n",
       "\n",
       "    .dataframe thead th {\n",
       "        text-align: right;\n",
       "    }\n",
       "</style>\n",
       "<table border=\"1\" class=\"dataframe\">\n",
       "  <thead>\n",
       "    <tr style=\"text-align: right;\">\n",
       "      <th></th>\n",
       "      <th>L5 x_mean</th>\n",
       "      <th>L5 x_std</th>\n",
       "      <th>L5 x_min</th>\n",
       "      <th>L5 x_max</th>\n",
       "      <th>L5 x_auc</th>\n",
       "      <th>L5 x_peaks</th>\n",
       "      <th>L5 y_mean</th>\n",
       "      <th>L5 y_std</th>\n",
       "      <th>L5 y_min</th>\n",
       "      <th>L5 y_max</th>\n",
       "      <th>...</th>\n",
       "      <th>Roll_T12_max</th>\n",
       "      <th>Roll_T12_auc</th>\n",
       "      <th>Roll_T12_peaks</th>\n",
       "      <th>Pitch_T12_mean</th>\n",
       "      <th>Pitch_T12_std</th>\n",
       "      <th>Pitch_T12_min</th>\n",
       "      <th>Pitch_T12_max</th>\n",
       "      <th>Pitch_T12_auc</th>\n",
       "      <th>Pitch_T12_peaks</th>\n",
       "      <th>Class</th>\n",
       "    </tr>\n",
       "  </thead>\n",
       "  <tbody>\n",
       "    <tr>\n",
       "      <th>0</th>\n",
       "      <td>0.011449</td>\n",
       "      <td>0.133862</td>\n",
       "      <td>-0.315158</td>\n",
       "      <td>0.375158</td>\n",
       "      <td>0.609679</td>\n",
       "      <td>16</td>\n",
       "      <td>-0.012295</td>\n",
       "      <td>0.121853</td>\n",
       "      <td>-0.276572</td>\n",
       "      <td>0.320082</td>\n",
       "      <td>...</td>\n",
       "      <td>85.797690</td>\n",
       "      <td>-147.363396</td>\n",
       "      <td>18</td>\n",
       "      <td>1.806008</td>\n",
       "      <td>41.597300</td>\n",
       "      <td>-76.395761</td>\n",
       "      <td>81.265847</td>\n",
       "      <td>64.780388</td>\n",
       "      <td>15</td>\n",
       "      <td>0</td>\n",
       "    </tr>\n",
       "    <tr>\n",
       "      <th>1</th>\n",
       "      <td>-0.031521</td>\n",
       "      <td>0.351144</td>\n",
       "      <td>-0.805051</td>\n",
       "      <td>1.370930</td>\n",
       "      <td>-1.505659</td>\n",
       "      <td>16</td>\n",
       "      <td>0.011113</td>\n",
       "      <td>0.201366</td>\n",
       "      <td>-0.500589</td>\n",
       "      <td>0.404246</td>\n",
       "      <td>...</td>\n",
       "      <td>70.244045</td>\n",
       "      <td>12.066810</td>\n",
       "      <td>14</td>\n",
       "      <td>-8.591848</td>\n",
       "      <td>46.507483</td>\n",
       "      <td>-80.403440</td>\n",
       "      <td>84.918606</td>\n",
       "      <td>-474.752451</td>\n",
       "      <td>16</td>\n",
       "      <td>0</td>\n",
       "    </tr>\n",
       "    <tr>\n",
       "      <th>2</th>\n",
       "      <td>0.022407</td>\n",
       "      <td>0.605444</td>\n",
       "      <td>-1.303408</td>\n",
       "      <td>1.292384</td>\n",
       "      <td>1.593019</td>\n",
       "      <td>18</td>\n",
       "      <td>0.025555</td>\n",
       "      <td>0.431345</td>\n",
       "      <td>-0.877882</td>\n",
       "      <td>0.872093</td>\n",
       "      <td>...</td>\n",
       "      <td>71.263978</td>\n",
       "      <td>378.790104</td>\n",
       "      <td>15</td>\n",
       "      <td>-4.124120</td>\n",
       "      <td>50.878694</td>\n",
       "      <td>-85.535539</td>\n",
       "      <td>72.135744</td>\n",
       "      <td>-247.460689</td>\n",
       "      <td>15</td>\n",
       "      <td>0</td>\n",
       "    </tr>\n",
       "    <tr>\n",
       "      <th>3</th>\n",
       "      <td>0.035019</td>\n",
       "      <td>0.568312</td>\n",
       "      <td>-1.107645</td>\n",
       "      <td>1.375268</td>\n",
       "      <td>1.960137</td>\n",
       "      <td>13</td>\n",
       "      <td>-0.137832</td>\n",
       "      <td>0.480056</td>\n",
       "      <td>-1.120734</td>\n",
       "      <td>1.046369</td>\n",
       "      <td>...</td>\n",
       "      <td>88.349104</td>\n",
       "      <td>-596.000030</td>\n",
       "      <td>16</td>\n",
       "      <td>5.012909</td>\n",
       "      <td>43.042922</td>\n",
       "      <td>-67.619463</td>\n",
       "      <td>80.742170</td>\n",
       "      <td>280.130461</td>\n",
       "      <td>13</td>\n",
       "      <td>0</td>\n",
       "    </tr>\n",
       "    <tr>\n",
       "      <th>4</th>\n",
       "      <td>-0.072219</td>\n",
       "      <td>0.699495</td>\n",
       "      <td>-1.870132</td>\n",
       "      <td>1.844777</td>\n",
       "      <td>-3.954333</td>\n",
       "      <td>14</td>\n",
       "      <td>0.027697</td>\n",
       "      <td>0.913177</td>\n",
       "      <td>-2.486366</td>\n",
       "      <td>3.146031</td>\n",
       "      <td>...</td>\n",
       "      <td>74.764213</td>\n",
       "      <td>85.005168</td>\n",
       "      <td>15</td>\n",
       "      <td>-13.050052</td>\n",
       "      <td>39.052121</td>\n",
       "      <td>-77.296143</td>\n",
       "      <td>63.221123</td>\n",
       "      <td>-759.436386</td>\n",
       "      <td>17</td>\n",
       "      <td>0</td>\n",
       "    </tr>\n",
       "  </tbody>\n",
       "</table>\n",
       "<p>5 rows × 109 columns</p>\n",
       "</div>"
      ],
      "text/plain": [
       "   L5 x_mean  L5 x_std  L5 x_min  L5 x_max  L5 x_auc  L5 x_peaks  L5 y_mean  \\\n",
       "0   0.011449  0.133862 -0.315158  0.375158  0.609679          16  -0.012295   \n",
       "1  -0.031521  0.351144 -0.805051  1.370930 -1.505659          16   0.011113   \n",
       "2   0.022407  0.605444 -1.303408  1.292384  1.593019          18   0.025555   \n",
       "3   0.035019  0.568312 -1.107645  1.375268  1.960137          13  -0.137832   \n",
       "4  -0.072219  0.699495 -1.870132  1.844777 -3.954333          14   0.027697   \n",
       "\n",
       "   L5 y_std  L5 y_min  L5 y_max  ...  Roll_T12_max  Roll_T12_auc  \\\n",
       "0  0.121853 -0.276572  0.320082  ...     85.797690   -147.363396   \n",
       "1  0.201366 -0.500589  0.404246  ...     70.244045     12.066810   \n",
       "2  0.431345 -0.877882  0.872093  ...     71.263978    378.790104   \n",
       "3  0.480056 -1.120734  1.046369  ...     88.349104   -596.000030   \n",
       "4  0.913177 -2.486366  3.146031  ...     74.764213     85.005168   \n",
       "\n",
       "   Roll_T12_peaks  Pitch_T12_mean  Pitch_T12_std  Pitch_T12_min  \\\n",
       "0              18        1.806008      41.597300     -76.395761   \n",
       "1              14       -8.591848      46.507483     -80.403440   \n",
       "2              15       -4.124120      50.878694     -85.535539   \n",
       "3              16        5.012909      43.042922     -67.619463   \n",
       "4              15      -13.050052      39.052121     -77.296143   \n",
       "\n",
       "   Pitch_T12_max  Pitch_T12_auc  Pitch_T12_peaks  Class  \n",
       "0      81.265847      64.780388               15      0  \n",
       "1      84.918606    -474.752451               16      0  \n",
       "2      72.135744    -247.460689               15      0  \n",
       "3      80.742170     280.130461               13      0  \n",
       "4      63.221123    -759.436386               17      0  \n",
       "\n",
       "[5 rows x 109 columns]"
      ]
     },
     "execution_count": 9,
     "metadata": {},
     "output_type": "execute_result"
    }
   ],
   "source": [
    "output_features.head()"
   ]
  },
  {
   "cell_type": "markdown",
   "id": "96a63b8e",
   "metadata": {
    "_cell_guid": "d4d480e4-9f2e-4b94-9e7d-63a5981e5945",
    "_uuid": "f962bc08-0b57-41e7-bc7a-80e5d875b70b",
    "collapsed": false,
    "jupyter": {
     "outputs_hidden": false
    },
    "papermill": {
     "duration": 0.009061,
     "end_time": "2025-01-20T18:50:36.456007",
     "exception": false,
     "start_time": "2025-01-20T18:50:36.446946",
     "status": "completed"
    },
    "tags": []
   },
   "source": [
    "# STEP 4: TRAINING"
   ]
  },
  {
   "cell_type": "code",
   "execution_count": 10,
   "id": "98c18fb5",
   "metadata": {
    "_cell_guid": "e22c4c8c-0a7a-4382-9f42-94a8972d53f5",
    "_uuid": "ef4cf593-9f07-4f8c-a89f-a02ab5ea837f",
    "collapsed": false,
    "execution": {
     "iopub.execute_input": "2025-01-20T18:50:36.477016Z",
     "iopub.status.busy": "2025-01-20T18:50:36.476541Z",
     "iopub.status.idle": "2025-01-20T18:50:37.351826Z",
     "shell.execute_reply": "2025-01-20T18:50:37.350601Z"
    },
    "jupyter": {
     "outputs_hidden": false
    },
    "papermill": {
     "duration": 0.888041,
     "end_time": "2025-01-20T18:50:37.354117",
     "exception": false,
     "start_time": "2025-01-20T18:50:36.466076",
     "status": "completed"
    },
    "tags": []
   },
   "outputs": [],
   "source": [
    "from sklearn.model_selection import train_test_split, cross_val_score, GridSearchCV\n",
    "from sklearn.svm import SVC\n",
    "from sklearn.ensemble import RandomForestClassifier\n",
    "from sklearn.linear_model import SGDClassifier\n",
    "from sklearn.neural_network import MLPClassifier\n",
    "from sklearn.preprocessing import StandardScaler\n",
    "from sklearn.decomposition import PCA\n",
    "from sklearn.feature_selection import SelectKBest, f_classif"
   ]
  },
  {
   "cell_type": "markdown",
   "id": "f208fddd",
   "metadata": {
    "_cell_guid": "3e038170-0d6d-4ff8-aa42-a38b79a4539d",
    "_uuid": "52a9311c-ff13-4e32-83d4-f607b838ba00",
    "collapsed": false,
    "jupyter": {
     "outputs_hidden": false
    },
    "papermill": {
     "duration": 0.009306,
     "end_time": "2025-01-20T18:50:37.373743",
     "exception": false,
     "start_time": "2025-01-20T18:50:37.364437",
     "status": "completed"
    },
    "tags": []
   },
   "source": [
    "# 1) Train-Test split (70/30)"
   ]
  },
  {
   "cell_type": "code",
   "execution_count": 11,
   "id": "4e73c7ed",
   "metadata": {
    "_cell_guid": "6accc0d5-4a0c-42fe-baa8-03a5c05a0da1",
    "_uuid": "88122982-d1f5-461f-810f-28437e0c1d44",
    "collapsed": false,
    "execution": {
     "iopub.execute_input": "2025-01-20T18:50:37.394014Z",
     "iopub.status.busy": "2025-01-20T18:50:37.393555Z",
     "iopub.status.idle": "2025-01-20T18:50:37.484999Z",
     "shell.execute_reply": "2025-01-20T18:50:37.483212Z"
    },
    "jupyter": {
     "outputs_hidden": false
    },
    "papermill": {
     "duration": 0.104057,
     "end_time": "2025-01-20T18:50:37.487204",
     "exception": false,
     "start_time": "2025-01-20T18:50:37.383147",
     "status": "completed"
    },
    "tags": []
   },
   "outputs": [
    {
     "name": "stdout",
     "output_type": "stream",
     "text": [
      "Train test split accuracy: 84.49%\n"
     ]
    }
   ],
   "source": [
    "X = output_features.drop(columns=[\"Class\"], axis=1)\n",
    "y = output_features['Class'] # Target variable\n",
    "\n",
    "scaler = StandardScaler()\n",
    "X_scaled = scaler.fit_transform(X)\n",
    "\n",
    "X_train, X_test, y_train, y_test = train_test_split(X_scaled, y, test_size=0.3, random_state=42)\n",
    "\n",
    "svm = SVC()\n",
    "svm.fit(X_train, y_train)\n",
    "result = svm.score(X_test, y_test)\n",
    "print(f\"Train test split accuracy: {result * 100:.2f}%\")\n"
   ]
  },
  {
   "cell_type": "markdown",
   "id": "ee1426dd",
   "metadata": {
    "_cell_guid": "349a6597-8c10-4d41-bb51-27d2042f48f1",
    "_uuid": "0d22f935-ca4a-40e4-b000-331b89c062c8",
    "collapsed": false,
    "jupyter": {
     "outputs_hidden": false
    },
    "papermill": {
     "duration": 0.009519,
     "end_time": "2025-01-20T18:50:37.506589",
     "exception": false,
     "start_time": "2025-01-20T18:50:37.497070",
     "status": "completed"
    },
    "tags": []
   },
   "source": [
    "# 2) 10-fold cross validation"
   ]
  },
  {
   "cell_type": "code",
   "execution_count": 12,
   "id": "d741272a",
   "metadata": {
    "_cell_guid": "534f07c8-fdda-47c9-bed8-ee652b3542e0",
    "_uuid": "a64049af-2850-4efc-b275-851d4da0ec00",
    "collapsed": false,
    "execution": {
     "iopub.execute_input": "2025-01-20T18:50:37.527784Z",
     "iopub.status.busy": "2025-01-20T18:50:37.527333Z",
     "iopub.status.idle": "2025-01-20T18:50:37.863176Z",
     "shell.execute_reply": "2025-01-20T18:50:37.861490Z"
    },
    "jupyter": {
     "outputs_hidden": false
    },
    "papermill": {
     "duration": 0.348965,
     "end_time": "2025-01-20T18:50:37.865390",
     "exception": false,
     "start_time": "2025-01-20T18:50:37.516425",
     "status": "completed"
    },
    "tags": []
   },
   "outputs": [
    {
     "name": "stdout",
     "output_type": "stream",
     "text": [
      "10-fold cross validation accuracy: 84.29%\n"
     ]
    }
   ],
   "source": [
    "scores = cross_val_score(svm, X_train, y_train, cv=10) \n",
    "scores_mean = scores.mean()\n",
    "print(f\"10-fold cross validation accuracy: {scores_mean * 100:.2f}%\")"
   ]
  },
  {
   "cell_type": "markdown",
   "id": "94770e35",
   "metadata": {
    "_cell_guid": "797f2435-ceb6-40e5-9815-d5c7b6a70bdb",
    "_uuid": "eabf832c-8d6f-4ae4-a5f1-70469a1d008b",
    "collapsed": false,
    "jupyter": {
     "outputs_hidden": false
    },
    "papermill": {
     "duration": 0.008875,
     "end_time": "2025-01-20T18:50:37.883862",
     "exception": false,
     "start_time": "2025-01-20T18:50:37.874987",
     "status": "completed"
    },
    "tags": []
   },
   "source": [
    "# 3) 1 and 2 with hyper parameter tuning"
   ]
  },
  {
   "cell_type": "code",
   "execution_count": 13,
   "id": "0ca88cef",
   "metadata": {
    "_cell_guid": "312e5472-e176-4a84-a3c5-62c1889d45d3",
    "_uuid": "d25e1fc5-f5af-4442-825a-30d82b7c6895",
    "collapsed": false,
    "execution": {
     "iopub.execute_input": "2025-01-20T18:50:37.903626Z",
     "iopub.status.busy": "2025-01-20T18:50:37.903279Z",
     "iopub.status.idle": "2025-01-20T18:50:53.226369Z",
     "shell.execute_reply": "2025-01-20T18:50:53.224861Z"
    },
    "jupyter": {
     "outputs_hidden": false
    },
    "papermill": {
     "duration": 15.335525,
     "end_time": "2025-01-20T18:50:53.228500",
     "exception": false,
     "start_time": "2025-01-20T18:50:37.892975",
     "status": "completed"
    },
    "tags": []
   },
   "outputs": [
    {
     "data": {
      "text/html": [
       "<style>#sk-container-id-1 {color: black;background-color: white;}#sk-container-id-1 pre{padding: 0;}#sk-container-id-1 div.sk-toggleable {background-color: white;}#sk-container-id-1 label.sk-toggleable__label {cursor: pointer;display: block;width: 100%;margin-bottom: 0;padding: 0.3em;box-sizing: border-box;text-align: center;}#sk-container-id-1 label.sk-toggleable__label-arrow:before {content: \"▸\";float: left;margin-right: 0.25em;color: #696969;}#sk-container-id-1 label.sk-toggleable__label-arrow:hover:before {color: black;}#sk-container-id-1 div.sk-estimator:hover label.sk-toggleable__label-arrow:before {color: black;}#sk-container-id-1 div.sk-toggleable__content {max-height: 0;max-width: 0;overflow: hidden;text-align: left;background-color: #f0f8ff;}#sk-container-id-1 div.sk-toggleable__content pre {margin: 0.2em;color: black;border-radius: 0.25em;background-color: #f0f8ff;}#sk-container-id-1 input.sk-toggleable__control:checked~div.sk-toggleable__content {max-height: 200px;max-width: 100%;overflow: auto;}#sk-container-id-1 input.sk-toggleable__control:checked~label.sk-toggleable__label-arrow:before {content: \"▾\";}#sk-container-id-1 div.sk-estimator input.sk-toggleable__control:checked~label.sk-toggleable__label {background-color: #d4ebff;}#sk-container-id-1 div.sk-label input.sk-toggleable__control:checked~label.sk-toggleable__label {background-color: #d4ebff;}#sk-container-id-1 input.sk-hidden--visually {border: 0;clip: rect(1px 1px 1px 1px);clip: rect(1px, 1px, 1px, 1px);height: 1px;margin: -1px;overflow: hidden;padding: 0;position: absolute;width: 1px;}#sk-container-id-1 div.sk-estimator {font-family: monospace;background-color: #f0f8ff;border: 1px dotted black;border-radius: 0.25em;box-sizing: border-box;margin-bottom: 0.5em;}#sk-container-id-1 div.sk-estimator:hover {background-color: #d4ebff;}#sk-container-id-1 div.sk-parallel-item::after {content: \"\";width: 100%;border-bottom: 1px solid gray;flex-grow: 1;}#sk-container-id-1 div.sk-label:hover label.sk-toggleable__label {background-color: #d4ebff;}#sk-container-id-1 div.sk-serial::before {content: \"\";position: absolute;border-left: 1px solid gray;box-sizing: border-box;top: 0;bottom: 0;left: 50%;z-index: 0;}#sk-container-id-1 div.sk-serial {display: flex;flex-direction: column;align-items: center;background-color: white;padding-right: 0.2em;padding-left: 0.2em;position: relative;}#sk-container-id-1 div.sk-item {position: relative;z-index: 1;}#sk-container-id-1 div.sk-parallel {display: flex;align-items: stretch;justify-content: center;background-color: white;position: relative;}#sk-container-id-1 div.sk-item::before, #sk-container-id-1 div.sk-parallel-item::before {content: \"\";position: absolute;border-left: 1px solid gray;box-sizing: border-box;top: 0;bottom: 0;left: 50%;z-index: -1;}#sk-container-id-1 div.sk-parallel-item {display: flex;flex-direction: column;z-index: 1;position: relative;background-color: white;}#sk-container-id-1 div.sk-parallel-item:first-child::after {align-self: flex-end;width: 50%;}#sk-container-id-1 div.sk-parallel-item:last-child::after {align-self: flex-start;width: 50%;}#sk-container-id-1 div.sk-parallel-item:only-child::after {width: 0;}#sk-container-id-1 div.sk-dashed-wrapped {border: 1px dashed gray;margin: 0 0.4em 0.5em 0.4em;box-sizing: border-box;padding-bottom: 0.4em;background-color: white;}#sk-container-id-1 div.sk-label label {font-family: monospace;font-weight: bold;display: inline-block;line-height: 1.2em;}#sk-container-id-1 div.sk-label-container {text-align: center;}#sk-container-id-1 div.sk-container {/* jupyter's `normalize.less` sets `[hidden] { display: none; }` but bootstrap.min.css set `[hidden] { display: none !important; }` so we also need the `!important` here to be able to override the default hidden behavior on the sphinx rendered scikit-learn.org. See: https://github.com/scikit-learn/scikit-learn/issues/21755 */display: inline-block !important;position: relative;}#sk-container-id-1 div.sk-text-repr-fallback {display: none;}</style><div id=\"sk-container-id-1\" class=\"sk-top-container\"><div class=\"sk-text-repr-fallback\"><pre>GridSearchCV(cv=10, estimator=SVC(),\n",
       "             param_grid={&#x27;C&#x27;: [0.1, 1, 10], &#x27;kernel&#x27;: [&#x27;linear&#x27;, &#x27;rbf&#x27;]})</pre><b>In a Jupyter environment, please rerun this cell to show the HTML representation or trust the notebook. <br />On GitHub, the HTML representation is unable to render, please try loading this page with nbviewer.org.</b></div><div class=\"sk-container\" hidden><div class=\"sk-item sk-dashed-wrapped\"><div class=\"sk-label-container\"><div class=\"sk-label sk-toggleable\"><input class=\"sk-toggleable__control sk-hidden--visually\" id=\"sk-estimator-id-1\" type=\"checkbox\" ><label for=\"sk-estimator-id-1\" class=\"sk-toggleable__label sk-toggleable__label-arrow\">GridSearchCV</label><div class=\"sk-toggleable__content\"><pre>GridSearchCV(cv=10, estimator=SVC(),\n",
       "             param_grid={&#x27;C&#x27;: [0.1, 1, 10], &#x27;kernel&#x27;: [&#x27;linear&#x27;, &#x27;rbf&#x27;]})</pre></div></div></div><div class=\"sk-parallel\"><div class=\"sk-parallel-item\"><div class=\"sk-item\"><div class=\"sk-label-container\"><div class=\"sk-label sk-toggleable\"><input class=\"sk-toggleable__control sk-hidden--visually\" id=\"sk-estimator-id-2\" type=\"checkbox\" ><label for=\"sk-estimator-id-2\" class=\"sk-toggleable__label sk-toggleable__label-arrow\">estimator: SVC</label><div class=\"sk-toggleable__content\"><pre>SVC()</pre></div></div></div><div class=\"sk-serial\"><div class=\"sk-item\"><div class=\"sk-estimator sk-toggleable\"><input class=\"sk-toggleable__control sk-hidden--visually\" id=\"sk-estimator-id-3\" type=\"checkbox\" ><label for=\"sk-estimator-id-3\" class=\"sk-toggleable__label sk-toggleable__label-arrow\">SVC</label><div class=\"sk-toggleable__content\"><pre>SVC()</pre></div></div></div></div></div></div></div></div></div></div>"
      ],
      "text/plain": [
       "GridSearchCV(cv=10, estimator=SVC(),\n",
       "             param_grid={'C': [0.1, 1, 10], 'kernel': ['linear', 'rbf']})"
      ]
     },
     "execution_count": 13,
     "metadata": {},
     "output_type": "execute_result"
    }
   ],
   "source": [
    "from sklearn.model_selection import GridSearchCV\n",
    "# defining parameter range \n",
    "param_grid = {'C': [0.1, 1, 10],\n",
    "              'kernel': ['linear', 'rbf']}\n",
    "grid = GridSearchCV(SVC(), param_grid, cv=10)\n",
    "# fitting the model for grid search \n",
    "grid.fit(X_train, y_train)"
   ]
  },
  {
   "cell_type": "code",
   "execution_count": 14,
   "id": "56c4af9e",
   "metadata": {
    "_cell_guid": "775daf34-b3b5-4f32-867d-302060251439",
    "_uuid": "233a2cb7-586a-4e58-9f65-fa48634906c2",
    "collapsed": false,
    "execution": {
     "iopub.execute_input": "2025-01-20T18:50:53.251076Z",
     "iopub.status.busy": "2025-01-20T18:50:53.250618Z",
     "iopub.status.idle": "2025-01-20T18:50:53.255570Z",
     "shell.execute_reply": "2025-01-20T18:50:53.254411Z"
    },
    "jupyter": {
     "outputs_hidden": false
    },
    "papermill": {
     "duration": 0.018319,
     "end_time": "2025-01-20T18:50:53.257368",
     "exception": false,
     "start_time": "2025-01-20T18:50:53.239049",
     "status": "completed"
    },
    "tags": []
   },
   "outputs": [],
   "source": [
    "optimal_svm = grid.best_estimator_"
   ]
  },
  {
   "cell_type": "code",
   "execution_count": 15,
   "id": "287938b9",
   "metadata": {
    "_cell_guid": "a8784f7d-c368-4063-9ad2-c1adb90e1677",
    "_uuid": "a43f027f-939b-4d99-9c0d-1e9f33f5a228",
    "collapsed": false,
    "execution": {
     "iopub.execute_input": "2025-01-20T18:50:53.278872Z",
     "iopub.status.busy": "2025-01-20T18:50:53.278447Z",
     "iopub.status.idle": "2025-01-20T18:50:53.292025Z",
     "shell.execute_reply": "2025-01-20T18:50:53.290362Z"
    },
    "jupyter": {
     "outputs_hidden": false
    },
    "papermill": {
     "duration": 0.027234,
     "end_time": "2025-01-20T18:50:53.294862",
     "exception": false,
     "start_time": "2025-01-20T18:50:53.267628",
     "status": "completed"
    },
    "tags": []
   },
   "outputs": [
    {
     "name": "stdout",
     "output_type": "stream",
     "text": [
      "GridSearchCV accuracy: : 85.32%\n"
     ]
    }
   ],
   "source": [
    "result = optimal_svm.score(X_test, y_test)\n",
    "print(f\"GridSearchCV accuracy: : {result * 100:.2f}%\")"
   ]
  },
  {
   "cell_type": "code",
   "execution_count": 16,
   "id": "3a8a603a",
   "metadata": {
    "execution": {
     "iopub.execute_input": "2025-01-20T18:50:53.317327Z",
     "iopub.status.busy": "2025-01-20T18:50:53.316964Z",
     "iopub.status.idle": "2025-01-20T18:51:04.454016Z",
     "shell.execute_reply": "2025-01-20T18:51:04.452314Z"
    },
    "papermill": {
     "duration": 11.150187,
     "end_time": "2025-01-20T18:51:04.456005",
     "exception": false,
     "start_time": "2025-01-20T18:50:53.305818",
     "status": "completed"
    },
    "tags": []
   },
   "outputs": [
    {
     "name": "stdout",
     "output_type": "stream",
     "text": [
      "10-fold cross validation accuracy: 85.71%\n"
     ]
    }
   ],
   "source": [
    "scores = cross_val_score(optimal_svm, X_train, y_train, cv=10, scoring='accuracy') \n",
    "scores_mean = scores.mean()\n",
    "print(f\"10-fold cross validation accuracy: {scores_mean * 100:.2f}%\")"
   ]
  },
  {
   "cell_type": "markdown",
   "id": "2b55f98a",
   "metadata": {
    "_cell_guid": "4303002f-e113-4a9c-88ea-80ea65d5cc97",
    "_uuid": "7e29965e-266e-4997-b491-c70fc833f4ba",
    "collapsed": false,
    "jupyter": {
     "outputs_hidden": false
    },
    "papermill": {
     "duration": 0.00974,
     "end_time": "2025-01-20T18:51:04.476900",
     "exception": false,
     "start_time": "2025-01-20T18:51:04.467160",
     "status": "completed"
    },
    "tags": []
   },
   "source": [
    "# 4) 1 and 2 with hyper parameter tuning and 10 best features"
   ]
  },
  {
   "cell_type": "code",
   "execution_count": 17,
   "id": "a08d9c30",
   "metadata": {
    "_cell_guid": "b75c0cbb-7c38-4e95-adc5-1f4a6516c4f3",
    "_uuid": "3d6621e2-e646-43c4-8a9e-99baea231dee",
    "collapsed": false,
    "execution": {
     "iopub.execute_input": "2025-01-20T18:51:04.498700Z",
     "iopub.status.busy": "2025-01-20T18:51:04.498345Z",
     "iopub.status.idle": "2025-01-20T18:51:04.586019Z",
     "shell.execute_reply": "2025-01-20T18:51:04.584379Z"
    },
    "jupyter": {
     "outputs_hidden": false
    },
    "papermill": {
     "duration": 0.100984,
     "end_time": "2025-01-20T18:51:04.588150",
     "exception": false,
     "start_time": "2025-01-20T18:51:04.487166",
     "status": "completed"
    },
    "tags": []
   },
   "outputs": [
    {
     "name": "stdout",
     "output_type": "stream",
     "text": [
      "10 best features accuracy: 82.83%\n"
     ]
    }
   ],
   "source": [
    "X_new = SelectKBest(f_classif, k=10).fit_transform(X_train, y_train)\n",
    "\n",
    "selector = SelectKBest(score_func=f_classif, k=10)\n",
    "X_new_train = selector.fit_transform(X_train, y_train)\n",
    "X_new_test = selector.transform(X_test)\n",
    "optimal_svm.fit(X_new, y_train)\n",
    "\n",
    "result = optimal_svm.score(X_new_test, y_test)\n",
    "print(f\"10 best features accuracy: {result * 100:.2f}%\")"
   ]
  },
  {
   "cell_type": "code",
   "execution_count": 18,
   "id": "783e07a2",
   "metadata": {
    "execution": {
     "iopub.execute_input": "2025-01-20T18:51:04.610668Z",
     "iopub.status.busy": "2025-01-20T18:51:04.610290Z",
     "iopub.status.idle": "2025-01-20T18:51:05.224994Z",
     "shell.execute_reply": "2025-01-20T18:51:05.223644Z"
    },
    "papermill": {
     "duration": 0.628642,
     "end_time": "2025-01-20T18:51:05.227160",
     "exception": false,
     "start_time": "2025-01-20T18:51:04.598518",
     "status": "completed"
    },
    "tags": []
   },
   "outputs": [
    {
     "name": "stdout",
     "output_type": "stream",
     "text": [
      "10-fold cross validation accuracy: 82.86%\n"
     ]
    }
   ],
   "source": [
    "scores = cross_val_score(optimal_svm, X_new_train, y_train, cv=10, scoring='accuracy') \n",
    "scores_mean = scores.mean()\n",
    "print(f\"10-fold cross validation accuracy: {scores_mean * 100:.2f}%\")"
   ]
  },
  {
   "cell_type": "markdown",
   "id": "7cce83e2",
   "metadata": {
    "_cell_guid": "9652b43d-8fa1-486f-a6c7-f7473b7566e3",
    "_uuid": "d6a0fd39-93ec-40d0-b29a-9fbc2f790608",
    "collapsed": false,
    "jupyter": {
     "outputs_hidden": false
    },
    "papermill": {
     "duration": 0.009686,
     "end_time": "2025-01-20T18:51:05.247134",
     "exception": false,
     "start_time": "2025-01-20T18:51:05.237448",
     "status": "completed"
    },
    "tags": []
   },
   "source": [
    "# 5) 1 and 2 with hyper parameter tuning and 10 principal components"
   ]
  },
  {
   "cell_type": "code",
   "execution_count": 19,
   "id": "7cadb5e5",
   "metadata": {
    "execution": {
     "iopub.execute_input": "2025-01-20T18:51:05.269533Z",
     "iopub.status.busy": "2025-01-20T18:51:05.269166Z",
     "iopub.status.idle": "2025-01-20T18:51:05.800165Z",
     "shell.execute_reply": "2025-01-20T18:51:05.798459Z"
    },
    "papermill": {
     "duration": 0.54442,
     "end_time": "2025-01-20T18:51:05.802350",
     "exception": false,
     "start_time": "2025-01-20T18:51:05.257930",
     "status": "completed"
    },
    "tags": []
   },
   "outputs": [
    {
     "name": "stdout",
     "output_type": "stream",
     "text": [
      "PCA accuracy: 83.38%\n"
     ]
    }
   ],
   "source": [
    "new_pca = PCA(n_components=10)\n",
    "X_train_pca = new_pca.fit_transform(X_train)\n",
    "X_test_pca = new_pca.transform(X_test)\n",
    "optimal_svm.fit(X_train_pca, y_train)\n",
    "result = optimal_svm.score(X_test_pca, y_test)\n",
    "print(f\"PCA accuracy: {result * 100:.2f}%\")"
   ]
  },
  {
   "cell_type": "code",
   "execution_count": 20,
   "id": "24e18558",
   "metadata": {
    "_cell_guid": "d354f2c0-2d95-4e40-87ab-c7493de5d68c",
    "_uuid": "d45e3d2b-da19-4b9c-9822-1854f2e28224",
    "collapsed": false,
    "execution": {
     "iopub.execute_input": "2025-01-20T18:51:05.825686Z",
     "iopub.status.busy": "2025-01-20T18:51:05.825286Z",
     "iopub.status.idle": "2025-01-20T18:51:09.240326Z",
     "shell.execute_reply": "2025-01-20T18:51:09.238692Z"
    },
    "jupyter": {
     "outputs_hidden": false
    },
    "papermill": {
     "duration": 3.429002,
     "end_time": "2025-01-20T18:51:09.242398",
     "exception": false,
     "start_time": "2025-01-20T18:51:05.813396",
     "status": "completed"
    },
    "tags": []
   },
   "outputs": [
    {
     "name": "stdout",
     "output_type": "stream",
     "text": [
      "10-fold cross validation accuracy: 82.02%\n"
     ]
    }
   ],
   "source": [
    "# 10-fold class validation with hyperparameter tuning\n",
    "scores = cross_val_score(optimal_svm, X_train_pca, y_train, cv=10, scoring='accuracy') \n",
    "scores_mean = scores.mean()\n",
    "print(f\"10-fold cross validation accuracy: {scores_mean * 100:.2f}%\")"
   ]
  },
  {
   "cell_type": "markdown",
   "id": "f639fc58",
   "metadata": {
    "_cell_guid": "6ae09240-503b-4dfe-b602-67c12afad031",
    "_uuid": "1b955974-d39d-41bb-9514-88790edc563a",
    "collapsed": false,
    "jupyter": {
     "outputs_hidden": false
    },
    "papermill": {
     "duration": 0.009519,
     "end_time": "2025-01-20T18:51:09.262136",
     "exception": false,
     "start_time": "2025-01-20T18:51:09.252617",
     "status": "completed"
    },
    "tags": []
   },
   "source": [
    "# Train SGD"
   ]
  },
  {
   "cell_type": "code",
   "execution_count": 21,
   "id": "07cc95ec",
   "metadata": {
    "_cell_guid": "a43abe61-254a-4540-b8ab-d25d956da148",
    "_uuid": "4a6e5711-6d30-4513-96d8-a027c38117ba",
    "collapsed": false,
    "execution": {
     "iopub.execute_input": "2025-01-20T18:51:09.283145Z",
     "iopub.status.busy": "2025-01-20T18:51:09.282723Z",
     "iopub.status.idle": "2025-01-20T18:51:09.304978Z",
     "shell.execute_reply": "2025-01-20T18:51:09.303232Z"
    },
    "jupyter": {
     "outputs_hidden": false
    },
    "papermill": {
     "duration": 0.034966,
     "end_time": "2025-01-20T18:51:09.306887",
     "exception": false,
     "start_time": "2025-01-20T18:51:09.271921",
     "status": "completed"
    },
    "tags": []
   },
   "outputs": [
    {
     "name": "stdout",
     "output_type": "stream",
     "text": [
      "Train test split accuracy: : 83.93%\n"
     ]
    }
   ],
   "source": [
    "# SGDclassifier\n",
    "sgd = SGDClassifier()\n",
    "sgd.fit(X_train, y_train)\n",
    "\n",
    "result = sgd.score(X_test, y_test)\n",
    "print(f\"Train test split accuracy: : {result * 100:.2f}%\")"
   ]
  },
  {
   "cell_type": "code",
   "execution_count": 22,
   "id": "1dc97118",
   "metadata": {
    "_cell_guid": "37b7f43d-90cd-4f65-b7c5-95678053305d",
    "_uuid": "609af093-4907-4d7a-a41f-18ad8f2870aa",
    "collapsed": false,
    "execution": {
     "iopub.execute_input": "2025-01-20T18:51:09.329233Z",
     "iopub.status.busy": "2025-01-20T18:51:09.328739Z",
     "iopub.status.idle": "2025-01-20T18:51:09.479409Z",
     "shell.execute_reply": "2025-01-20T18:51:09.478074Z"
    },
    "jupyter": {
     "outputs_hidden": false
    },
    "papermill": {
     "duration": 0.16409,
     "end_time": "2025-01-20T18:51:09.481552",
     "exception": false,
     "start_time": "2025-01-20T18:51:09.317462",
     "status": "completed"
    },
    "tags": []
   },
   "outputs": [
    {
     "name": "stdout",
     "output_type": "stream",
     "text": [
      "10-fold cross validation accuracy: 79.88%\n"
     ]
    }
   ],
   "source": [
    "scores = cross_val_score(sgd, X_train, y_train, cv=10, scoring='accuracy') \n",
    "scores_mean = scores.mean()\n",
    "print(f\"10-fold cross validation accuracy: {scores_mean * 100:.2f}%\")"
   ]
  },
  {
   "cell_type": "markdown",
   "id": "c028c306",
   "metadata": {
    "_cell_guid": "4364eea5-7435-4972-9f1e-7b25818178ea",
    "_uuid": "b45454d6-d39b-4814-9d6e-93584c430f76",
    "collapsed": false,
    "jupyter": {
     "outputs_hidden": false
    },
    "papermill": {
     "duration": 0.010379,
     "end_time": "2025-01-20T18:51:09.502810",
     "exception": false,
     "start_time": "2025-01-20T18:51:09.492431",
     "status": "completed"
    },
    "tags": []
   },
   "source": [
    "# Train RandomForest"
   ]
  },
  {
   "cell_type": "code",
   "execution_count": 23,
   "id": "36977580",
   "metadata": {
    "_cell_guid": "fc87f8f1-0e34-4706-9c3f-bc81cdc19158",
    "_uuid": "682ace4c-cddc-4475-8076-de80d23ddd1c",
    "collapsed": false,
    "execution": {
     "iopub.execute_input": "2025-01-20T18:51:09.525707Z",
     "iopub.status.busy": "2025-01-20T18:51:09.525296Z",
     "iopub.status.idle": "2025-01-20T18:51:10.155618Z",
     "shell.execute_reply": "2025-01-20T18:51:10.154312Z"
    },
    "jupyter": {
     "outputs_hidden": false
    },
    "papermill": {
     "duration": 0.644086,
     "end_time": "2025-01-20T18:51:10.157573",
     "exception": false,
     "start_time": "2025-01-20T18:51:09.513487",
     "status": "completed"
    },
    "tags": []
   },
   "outputs": [
    {
     "name": "stdout",
     "output_type": "stream",
     "text": [
      "Train test split accuracy: : 85.32%\n"
     ]
    }
   ],
   "source": [
    "# RandomForest\n",
    "\n",
    "rf_classifier = RandomForestClassifier()\n",
    "rf_classifier.fit(X_train, y_train)\n",
    "\n",
    "result = rf_classifier.score(X_test, y_test)\n",
    "print(f\"Train test split accuracy: : {result * 100:.2f}%\")"
   ]
  },
  {
   "cell_type": "code",
   "execution_count": 24,
   "id": "be80f8f0",
   "metadata": {
    "_cell_guid": "0f5724d1-0231-49d0-9b13-2460936f918d",
    "_uuid": "910b883b-fef0-45a3-9517-f1ac04a472ab",
    "collapsed": false,
    "execution": {
     "iopub.execute_input": "2025-01-20T18:51:10.180000Z",
     "iopub.status.busy": "2025-01-20T18:51:10.179589Z",
     "iopub.status.idle": "2025-01-20T18:51:15.782042Z",
     "shell.execute_reply": "2025-01-20T18:51:15.780689Z"
    },
    "jupyter": {
     "outputs_hidden": false
    },
    "papermill": {
     "duration": 5.615999,
     "end_time": "2025-01-20T18:51:15.784149",
     "exception": false,
     "start_time": "2025-01-20T18:51:10.168150",
     "status": "completed"
    },
    "tags": []
   },
   "outputs": [
    {
     "name": "stdout",
     "output_type": "stream",
     "text": [
      "10-fold cross validation accuracy: 83.69%\n"
     ]
    }
   ],
   "source": [
    "scores = cross_val_score(rf_classifier, X_train, y_train, cv=10, scoring='accuracy') \n",
    "scores_mean = scores.mean()\n",
    "print(f\"10-fold cross validation accuracy: {scores_mean * 100:.2f}%\")"
   ]
  },
  {
   "cell_type": "markdown",
   "id": "e1eea6ca",
   "metadata": {
    "_cell_guid": "d69d0db1-f8c1-4253-a432-593ec5d0bf05",
    "_uuid": "0b53afcc-59e4-486a-9bda-a7cfd48893fc",
    "collapsed": false,
    "jupyter": {
     "outputs_hidden": false
    },
    "papermill": {
     "duration": 0.01116,
     "end_time": "2025-01-20T18:51:15.806235",
     "exception": false,
     "start_time": "2025-01-20T18:51:15.795075",
     "status": "completed"
    },
    "tags": []
   },
   "source": [
    "# Train MLP classifier"
   ]
  },
  {
   "cell_type": "code",
   "execution_count": 25,
   "id": "62428b53",
   "metadata": {
    "_cell_guid": "1192779e-7b31-4e1f-8078-f1af8e0494ed",
    "_uuid": "bafc8fac-8fb5-49ac-87d3-85fda8a42f2c",
    "collapsed": false,
    "execution": {
     "iopub.execute_input": "2025-01-20T18:51:15.829359Z",
     "iopub.status.busy": "2025-01-20T18:51:15.828914Z",
     "iopub.status.idle": "2025-01-20T18:51:18.098746Z",
     "shell.execute_reply": "2025-01-20T18:51:18.097525Z"
    },
    "jupyter": {
     "outputs_hidden": false
    },
    "papermill": {
     "duration": 2.283947,
     "end_time": "2025-01-20T18:51:18.100937",
     "exception": false,
     "start_time": "2025-01-20T18:51:15.816990",
     "status": "completed"
    },
    "tags": []
   },
   "outputs": [
    {
     "name": "stdout",
     "output_type": "stream",
     "text": [
      "Train test split accuracy: : 83.38%\n"
     ]
    }
   ],
   "source": [
    "mlp = MLPClassifier(max_iter=500, random_state=42)\n",
    "mlp.fit(X_train, y_train)\n",
    "result = mlp.score(X_test, y_test)\n",
    "print(f\"Train test split accuracy: : {result * 100:.2f}%\")"
   ]
  },
  {
   "cell_type": "code",
   "execution_count": 26,
   "id": "8ea64a4b",
   "metadata": {
    "_cell_guid": "7f4cd042-211a-4094-b519-68b7e17d5c77",
    "_uuid": "b3b3fb99-0bd3-49af-8e60-4bf7d5d3bd0c",
    "collapsed": false,
    "execution": {
     "iopub.execute_input": "2025-01-20T18:51:18.123428Z",
     "iopub.status.busy": "2025-01-20T18:51:18.123078Z",
     "iopub.status.idle": "2025-01-20T18:51:35.837068Z",
     "shell.execute_reply": "2025-01-20T18:51:35.835853Z"
    },
    "jupyter": {
     "outputs_hidden": false
    },
    "papermill": {
     "duration": 17.727404,
     "end_time": "2025-01-20T18:51:35.839104",
     "exception": false,
     "start_time": "2025-01-20T18:51:18.111700",
     "status": "completed"
    },
    "tags": []
   },
   "outputs": [
    {
     "name": "stdout",
     "output_type": "stream",
     "text": [
      "10-fold cross validation accuracy: 83.45%\n"
     ]
    }
   ],
   "source": [
    "scores = cross_val_score(mlp, X_train, y_train, cv=10, scoring='accuracy') \n",
    "scores_mean = scores.mean()\n",
    "print(f\"10-fold cross validation accuracy: {scores_mean * 100:.2f}%\")"
   ]
  },
  {
   "cell_type": "markdown",
   "id": "cf2328b4",
   "metadata": {
    "papermill": {
     "duration": 0.00983,
     "end_time": "2025-01-20T18:51:35.859404",
     "exception": false,
     "start_time": "2025-01-20T18:51:35.849574",
     "status": "completed"
    },
    "tags": []
   },
   "source": [
    "# Train Original SVM"
   ]
  },
  {
   "cell_type": "code",
   "execution_count": 27,
   "id": "490c5790",
   "metadata": {
    "execution": {
     "iopub.execute_input": "2025-01-20T18:51:35.881066Z",
     "iopub.status.busy": "2025-01-20T18:51:35.880670Z",
     "iopub.status.idle": "2025-01-20T18:51:35.935630Z",
     "shell.execute_reply": "2025-01-20T18:51:35.934317Z"
    },
    "papermill": {
     "duration": 0.068063,
     "end_time": "2025-01-20T18:51:35.937547",
     "exception": false,
     "start_time": "2025-01-20T18:51:35.869484",
     "status": "completed"
    },
    "tags": []
   },
   "outputs": [
    {
     "name": "stdout",
     "output_type": "stream",
     "text": [
      "Train test split accuracy: 84.49%\n"
     ]
    }
   ],
   "source": [
    "origin_svm = SVC()\n",
    "\n",
    "origin_svm.fit(X_train, y_train)\n",
    "\n",
    "result = origin_svm.score(X_test, y_test)\n",
    "print(f\"Train test split accuracy: {result * 100:.2f}%\")"
   ]
  },
  {
   "cell_type": "code",
   "execution_count": 28,
   "id": "faaa91ab",
   "metadata": {
    "execution": {
     "iopub.execute_input": "2025-01-20T18:51:35.962860Z",
     "iopub.status.busy": "2025-01-20T18:51:35.962426Z",
     "iopub.status.idle": "2025-01-20T18:51:36.275784Z",
     "shell.execute_reply": "2025-01-20T18:51:36.274369Z"
    },
    "papermill": {
     "duration": 0.327315,
     "end_time": "2025-01-20T18:51:36.277710",
     "exception": false,
     "start_time": "2025-01-20T18:51:35.950395",
     "status": "completed"
    },
    "tags": []
   },
   "outputs": [
    {
     "name": "stdout",
     "output_type": "stream",
     "text": [
      "10-fold cross validation accuracy: 84.29%\n"
     ]
    }
   ],
   "source": [
    "scores = cross_val_score(svm, X_train, y_train, cv=10) \n",
    "scores_mean = scores.mean()\n",
    "print(f\"10-fold cross validation accuracy: {scores_mean * 100:.2f}%\")"
   ]
  }
 ],
 "metadata": {
  "kaggle": {
   "accelerator": "none",
   "dataSources": [
    {
     "datasetId": 6480088,
     "sourceId": 10466323,
     "sourceType": "datasetVersion"
    }
   ],
   "dockerImageVersionId": 30839,
   "isGpuEnabled": false,
   "isInternetEnabled": true,
   "language": "python",
   "sourceType": "notebook"
  },
  "kernelspec": {
   "display_name": "Python 3",
   "language": "python",
   "name": "python3"
  },
  "language_info": {
   "codemirror_mode": {
    "name": "ipython",
    "version": 3
   },
   "file_extension": ".py",
   "mimetype": "text/x-python",
   "name": "python",
   "nbconvert_exporter": "python",
   "pygments_lexer": "ipython3",
   "version": "3.10.12"
  },
  "papermill": {
   "default_parameters": {},
   "duration": 70.785298,
   "end_time": "2025-01-20T18:51:37.111395",
   "environment_variables": {},
   "exception": null,
   "input_path": "__notebook__.ipynb",
   "output_path": "__notebook__.ipynb",
   "parameters": {},
   "start_time": "2025-01-20T18:50:26.326097",
   "version": "2.6.0"
  }
 },
 "nbformat": 4,
 "nbformat_minor": 5
}
