{
 "cells": [
  {
   "cell_type": "code",
   "execution_count": 1,
   "id": "a3394317",
   "metadata": {
    "_cell_guid": "d29564a1-956a-4f07-9abd-ce4ada5dbaae",
    "_uuid": "aa0b617d-ba9b-4f38-b67e-fda52f400c1b",
    "collapsed": false,
    "execution": {
     "iopub.execute_input": "2025-01-12T08:12:04.485762Z",
     "iopub.status.busy": "2025-01-12T08:12:04.485393Z",
     "iopub.status.idle": "2025-01-12T08:12:05.306367Z",
     "shell.execute_reply": "2025-01-12T08:12:05.305095Z"
    },
    "jupyter": {
     "outputs_hidden": false
    },
    "papermill": {
     "duration": 0.831585,
     "end_time": "2025-01-12T08:12:05.308164",
     "exception": false,
     "start_time": "2025-01-12T08:12:04.476579",
     "status": "completed"
    },
    "tags": []
   },
   "outputs": [
    {
     "name": "stdout",
     "output_type": "stream",
     "text": [
      "/kaggle/input/concrete.csv\n"
     ]
    }
   ],
   "source": [
    "# This Python 3 environment comes with many helpful analytics libraries installed\n",
    "# It is defined by the kaggle/python Docker image: https://github.com/kaggle/docker-python\n",
    "# For example, here's several helpful packages to load\n",
    "\n",
    "import numpy as np # linear algebra\n",
    "import pandas as pd # data processing, CSV file I/O (e.g. pd.read_csv)\n",
    "\n",
    "# Input data files are available in the read-only \"../input/\" directory\n",
    "# For example, running this (by clicking run or pressing Shift+Enter) will list all files under the input directory\n",
    "\n",
    "import os\n",
    "for dirname, _, filenames in os.walk('/kaggle/input'):\n",
    "    for filename in filenames:\n",
    "        print(os.path.join(dirname, filename))\n",
    "\n",
    "# You can write up to 20GB to the current directory (/kaggle/working/) that gets preserved as output when you create a version using \"Save & Run All\" \n",
    "# You can also write temporary files to /kaggle/temp/, but they won't be saved outside of the current session"
   ]
  },
  {
   "cell_type": "markdown",
   "id": "8f1a9ffb",
   "metadata": {
    "_cell_guid": "977ac045-b6f0-44d6-8cb8-a5627c50e648",
    "_uuid": "cdd01c99-789e-40cd-95ef-dfd15e022b1e",
    "collapsed": false,
    "jupyter": {
     "outputs_hidden": false
    },
    "papermill": {
     "duration": 0.006591,
     "end_time": "2025-01-12T08:12:05.322186",
     "exception": false,
     "start_time": "2025-01-12T08:12:05.315595",
     "status": "completed"
    },
    "tags": []
   },
   "source": [
    "cement = pd.read.csv('/kaggle/input/cement-manufacturing-concrete-dataset/concrete.csv')"
   ]
  },
  {
   "cell_type": "code",
   "execution_count": 2,
   "id": "2675bf52",
   "metadata": {
    "_cell_guid": "b680e3b2-75d7-4811-bff3-7fc59b92bf3a",
    "_uuid": "6f8a54f8-b880-4753-9d0d-942f26fae532",
    "collapsed": false,
    "execution": {
     "iopub.execute_input": "2025-01-12T08:12:05.337650Z",
     "iopub.status.busy": "2025-01-12T08:12:05.337130Z",
     "iopub.status.idle": "2025-01-12T08:12:05.359318Z",
     "shell.execute_reply": "2025-01-12T08:12:05.358311Z"
    },
    "jupyter": {
     "outputs_hidden": false
    },
    "papermill": {
     "duration": 0.032231,
     "end_time": "2025-01-12T08:12:05.361316",
     "exception": false,
     "start_time": "2025-01-12T08:12:05.329085",
     "status": "completed"
    },
    "tags": []
   },
   "outputs": [],
   "source": [
    "cement = pd.read_csv('/kaggle/input/concrete.csv')"
   ]
  },
  {
   "cell_type": "code",
   "execution_count": 3,
   "id": "f3fd5174",
   "metadata": {
    "_cell_guid": "60baf589-7d6c-4297-bac7-b9df2cb59f39",
    "_uuid": "1be2c9c4-0ab6-43f4-908e-94fdc1a1cbea",
    "collapsed": false,
    "execution": {
     "iopub.execute_input": "2025-01-12T08:12:05.376784Z",
     "iopub.status.busy": "2025-01-12T08:12:05.376446Z",
     "iopub.status.idle": "2025-01-12T08:12:05.383191Z",
     "shell.execute_reply": "2025-01-12T08:12:05.382006Z"
    },
    "jupyter": {
     "outputs_hidden": false
    },
    "papermill": {
     "duration": 0.016007,
     "end_time": "2025-01-12T08:12:05.384799",
     "exception": false,
     "start_time": "2025-01-12T08:12:05.368792",
     "status": "completed"
    },
    "tags": []
   },
   "outputs": [
    {
     "data": {
      "text/plain": [
       "pandas.core.frame.DataFrame"
      ]
     },
     "execution_count": 3,
     "metadata": {},
     "output_type": "execute_result"
    }
   ],
   "source": [
    "type(cement)"
   ]
  },
  {
   "cell_type": "code",
   "execution_count": 4,
   "id": "79d620a5",
   "metadata": {
    "_cell_guid": "f8c383af-2357-4c74-8631-1db0da4cd783",
    "_uuid": "e720c521-8093-4215-acfa-5f30d0898a8b",
    "collapsed": false,
    "execution": {
     "iopub.execute_input": "2025-01-12T08:12:05.400154Z",
     "iopub.status.busy": "2025-01-12T08:12:05.399737Z",
     "iopub.status.idle": "2025-01-12T08:12:05.422980Z",
     "shell.execute_reply": "2025-01-12T08:12:05.421886Z"
    },
    "jupyter": {
     "outputs_hidden": false
    },
    "papermill": {
     "duration": 0.032818,
     "end_time": "2025-01-12T08:12:05.424678",
     "exception": false,
     "start_time": "2025-01-12T08:12:05.391860",
     "status": "completed"
    },
    "tags": []
   },
   "outputs": [
    {
     "data": {
      "text/html": [
       "<div>\n",
       "<style scoped>\n",
       "    .dataframe tbody tr th:only-of-type {\n",
       "        vertical-align: middle;\n",
       "    }\n",
       "\n",
       "    .dataframe tbody tr th {\n",
       "        vertical-align: top;\n",
       "    }\n",
       "\n",
       "    .dataframe thead th {\n",
       "        text-align: right;\n",
       "    }\n",
       "</style>\n",
       "<table border=\"1\" class=\"dataframe\">\n",
       "  <thead>\n",
       "    <tr style=\"text-align: right;\">\n",
       "      <th></th>\n",
       "      <th>cement</th>\n",
       "      <th>slag</th>\n",
       "      <th>ash</th>\n",
       "      <th>water</th>\n",
       "      <th>superplastic</th>\n",
       "      <th>coarseagg</th>\n",
       "      <th>fineagg</th>\n",
       "      <th>age</th>\n",
       "      <th>strength</th>\n",
       "    </tr>\n",
       "  </thead>\n",
       "  <tbody>\n",
       "    <tr>\n",
       "      <th>0</th>\n",
       "      <td>141.3</td>\n",
       "      <td>212.0</td>\n",
       "      <td>0.0</td>\n",
       "      <td>203.5</td>\n",
       "      <td>0.0</td>\n",
       "      <td>971.8</td>\n",
       "      <td>748.5</td>\n",
       "      <td>28</td>\n",
       "      <td>29.89</td>\n",
       "    </tr>\n",
       "    <tr>\n",
       "      <th>1</th>\n",
       "      <td>168.9</td>\n",
       "      <td>42.2</td>\n",
       "      <td>124.3</td>\n",
       "      <td>158.3</td>\n",
       "      <td>10.8</td>\n",
       "      <td>1080.8</td>\n",
       "      <td>796.2</td>\n",
       "      <td>14</td>\n",
       "      <td>23.51</td>\n",
       "    </tr>\n",
       "    <tr>\n",
       "      <th>2</th>\n",
       "      <td>250.0</td>\n",
       "      <td>0.0</td>\n",
       "      <td>95.7</td>\n",
       "      <td>187.4</td>\n",
       "      <td>5.5</td>\n",
       "      <td>956.9</td>\n",
       "      <td>861.2</td>\n",
       "      <td>28</td>\n",
       "      <td>29.22</td>\n",
       "    </tr>\n",
       "    <tr>\n",
       "      <th>3</th>\n",
       "      <td>266.0</td>\n",
       "      <td>114.0</td>\n",
       "      <td>0.0</td>\n",
       "      <td>228.0</td>\n",
       "      <td>0.0</td>\n",
       "      <td>932.0</td>\n",
       "      <td>670.0</td>\n",
       "      <td>28</td>\n",
       "      <td>45.85</td>\n",
       "    </tr>\n",
       "    <tr>\n",
       "      <th>4</th>\n",
       "      <td>154.8</td>\n",
       "      <td>183.4</td>\n",
       "      <td>0.0</td>\n",
       "      <td>193.3</td>\n",
       "      <td>9.1</td>\n",
       "      <td>1047.4</td>\n",
       "      <td>696.7</td>\n",
       "      <td>28</td>\n",
       "      <td>18.29</td>\n",
       "    </tr>\n",
       "  </tbody>\n",
       "</table>\n",
       "</div>"
      ],
      "text/plain": [
       "   cement   slag    ash  water  superplastic  coarseagg  fineagg  age  \\\n",
       "0   141.3  212.0    0.0  203.5           0.0      971.8    748.5   28   \n",
       "1   168.9   42.2  124.3  158.3          10.8     1080.8    796.2   14   \n",
       "2   250.0    0.0   95.7  187.4           5.5      956.9    861.2   28   \n",
       "3   266.0  114.0    0.0  228.0           0.0      932.0    670.0   28   \n",
       "4   154.8  183.4    0.0  193.3           9.1     1047.4    696.7   28   \n",
       "\n",
       "   strength  \n",
       "0     29.89  \n",
       "1     23.51  \n",
       "2     29.22  \n",
       "3     45.85  \n",
       "4     18.29  "
      ]
     },
     "execution_count": 4,
     "metadata": {},
     "output_type": "execute_result"
    }
   ],
   "source": [
    "cement.head()"
   ]
  },
  {
   "cell_type": "code",
   "execution_count": 5,
   "id": "5ceeff2c",
   "metadata": {
    "_cell_guid": "05115eab-c619-47ee-bd77-6fbe37861e64",
    "_uuid": "5f40354a-a377-4ec5-b3c7-de6362b125e5",
    "collapsed": false,
    "execution": {
     "iopub.execute_input": "2025-01-12T08:12:05.439940Z",
     "iopub.status.busy": "2025-01-12T08:12:05.439556Z",
     "iopub.status.idle": "2025-01-12T08:12:05.444463Z",
     "shell.execute_reply": "2025-01-12T08:12:05.443451Z"
    },
    "jupyter": {
     "outputs_hidden": false
    },
    "papermill": {
     "duration": 0.014328,
     "end_time": "2025-01-12T08:12:05.446128",
     "exception": false,
     "start_time": "2025-01-12T08:12:05.431800",
     "status": "completed"
    },
    "tags": []
   },
   "outputs": [],
   "source": [
    "def label_strength(i):\n",
    "    if i < 20: \n",
    "        i =1\n",
    "    elif 20 <= i < 30: \n",
    "        i=2\n",
    "    elif 30 <= i < 40: \n",
    "        i=3\n",
    "    elif 40 <= i < 50: \n",
    "        i=4\n",
    "    else: \n",
    "        i=5\n",
    "    return i"
   ]
  },
  {
   "cell_type": "code",
   "execution_count": 6,
   "id": "50e60014",
   "metadata": {
    "_cell_guid": "2fc01ea7-174f-4a3a-be23-21c8ba23c0a7",
    "_uuid": "61eb92eb-efe7-4657-902f-5e2db055e42a",
    "collapsed": false,
    "execution": {
     "iopub.execute_input": "2025-01-12T08:12:05.461690Z",
     "iopub.status.busy": "2025-01-12T08:12:05.461279Z",
     "iopub.status.idle": "2025-01-12T08:12:05.478370Z",
     "shell.execute_reply": "2025-01-12T08:12:05.477215Z"
    },
    "jupyter": {
     "outputs_hidden": false
    },
    "papermill": {
     "duration": 0.026849,
     "end_time": "2025-01-12T08:12:05.480093",
     "exception": false,
     "start_time": "2025-01-12T08:12:05.453244",
     "status": "completed"
    },
    "tags": []
   },
   "outputs": [
    {
     "data": {
      "text/html": [
       "<div>\n",
       "<style scoped>\n",
       "    .dataframe tbody tr th:only-of-type {\n",
       "        vertical-align: middle;\n",
       "    }\n",
       "\n",
       "    .dataframe tbody tr th {\n",
       "        vertical-align: top;\n",
       "    }\n",
       "\n",
       "    .dataframe thead th {\n",
       "        text-align: right;\n",
       "    }\n",
       "</style>\n",
       "<table border=\"1\" class=\"dataframe\">\n",
       "  <thead>\n",
       "    <tr style=\"text-align: right;\">\n",
       "      <th></th>\n",
       "      <th>cement</th>\n",
       "      <th>slag</th>\n",
       "      <th>ash</th>\n",
       "      <th>water</th>\n",
       "      <th>superplastic</th>\n",
       "      <th>coarseagg</th>\n",
       "      <th>fineagg</th>\n",
       "      <th>age</th>\n",
       "      <th>strength</th>\n",
       "      <th>label</th>\n",
       "    </tr>\n",
       "  </thead>\n",
       "  <tbody>\n",
       "    <tr>\n",
       "      <th>0</th>\n",
       "      <td>141.3</td>\n",
       "      <td>212.0</td>\n",
       "      <td>0.0</td>\n",
       "      <td>203.5</td>\n",
       "      <td>0.0</td>\n",
       "      <td>971.8</td>\n",
       "      <td>748.5</td>\n",
       "      <td>28</td>\n",
       "      <td>29.89</td>\n",
       "      <td>2</td>\n",
       "    </tr>\n",
       "    <tr>\n",
       "      <th>1</th>\n",
       "      <td>168.9</td>\n",
       "      <td>42.2</td>\n",
       "      <td>124.3</td>\n",
       "      <td>158.3</td>\n",
       "      <td>10.8</td>\n",
       "      <td>1080.8</td>\n",
       "      <td>796.2</td>\n",
       "      <td>14</td>\n",
       "      <td>23.51</td>\n",
       "      <td>2</td>\n",
       "    </tr>\n",
       "    <tr>\n",
       "      <th>2</th>\n",
       "      <td>250.0</td>\n",
       "      <td>0.0</td>\n",
       "      <td>95.7</td>\n",
       "      <td>187.4</td>\n",
       "      <td>5.5</td>\n",
       "      <td>956.9</td>\n",
       "      <td>861.2</td>\n",
       "      <td>28</td>\n",
       "      <td>29.22</td>\n",
       "      <td>2</td>\n",
       "    </tr>\n",
       "    <tr>\n",
       "      <th>3</th>\n",
       "      <td>266.0</td>\n",
       "      <td>114.0</td>\n",
       "      <td>0.0</td>\n",
       "      <td>228.0</td>\n",
       "      <td>0.0</td>\n",
       "      <td>932.0</td>\n",
       "      <td>670.0</td>\n",
       "      <td>28</td>\n",
       "      <td>45.85</td>\n",
       "      <td>4</td>\n",
       "    </tr>\n",
       "    <tr>\n",
       "      <th>4</th>\n",
       "      <td>154.8</td>\n",
       "      <td>183.4</td>\n",
       "      <td>0.0</td>\n",
       "      <td>193.3</td>\n",
       "      <td>9.1</td>\n",
       "      <td>1047.4</td>\n",
       "      <td>696.7</td>\n",
       "      <td>28</td>\n",
       "      <td>18.29</td>\n",
       "      <td>1</td>\n",
       "    </tr>\n",
       "  </tbody>\n",
       "</table>\n",
       "</div>"
      ],
      "text/plain": [
       "   cement   slag    ash  water  superplastic  coarseagg  fineagg  age  \\\n",
       "0   141.3  212.0    0.0  203.5           0.0      971.8    748.5   28   \n",
       "1   168.9   42.2  124.3  158.3          10.8     1080.8    796.2   14   \n",
       "2   250.0    0.0   95.7  187.4           5.5      956.9    861.2   28   \n",
       "3   266.0  114.0    0.0  228.0           0.0      932.0    670.0   28   \n",
       "4   154.8  183.4    0.0  193.3           9.1     1047.4    696.7   28   \n",
       "\n",
       "   strength  label  \n",
       "0     29.89      2  \n",
       "1     23.51      2  \n",
       "2     29.22      2  \n",
       "3     45.85      4  \n",
       "4     18.29      1  "
      ]
     },
     "execution_count": 6,
     "metadata": {},
     "output_type": "execute_result"
    }
   ],
   "source": [
    "cement['label']=cement['strength'].apply(label_strength)\n",
    "\n",
    "data_dict = cement.groupby('label')\n",
    "\n",
    "\n",
    "cement.head()"
   ]
  },
  {
   "cell_type": "code",
   "execution_count": 7,
   "id": "d52a6e22",
   "metadata": {
    "_cell_guid": "2ff20997-4220-4f11-a21c-cf3460962a8f",
    "_uuid": "95f5b91f-ac11-4674-87b1-cd771f4c5734",
    "collapsed": false,
    "execution": {
     "iopub.execute_input": "2025-01-12T08:12:05.496287Z",
     "iopub.status.busy": "2025-01-12T08:12:05.495873Z",
     "iopub.status.idle": "2025-01-12T08:12:05.511929Z",
     "shell.execute_reply": "2025-01-12T08:12:05.510821Z"
    },
    "jupyter": {
     "outputs_hidden": false
    },
    "papermill": {
     "duration": 0.026486,
     "end_time": "2025-01-12T08:12:05.513965",
     "exception": false,
     "start_time": "2025-01-12T08:12:05.487479",
     "status": "completed"
    },
    "tags": []
   },
   "outputs": [],
   "source": [
    "cement.to_csv('convert_concrete.csv')"
   ]
  },
  {
   "cell_type": "code",
   "execution_count": 8,
   "id": "56f3a561",
   "metadata": {
    "_cell_guid": "8f481f4c-b693-4c9b-a825-81586aa27141",
    "_uuid": "c8c3a8f9-2319-4b35-ba76-c56c9da1eaff",
    "collapsed": false,
    "execution": {
     "iopub.execute_input": "2025-01-12T08:12:05.529887Z",
     "iopub.status.busy": "2025-01-12T08:12:05.529502Z",
     "iopub.status.idle": "2025-01-12T08:12:05.821275Z",
     "shell.execute_reply": "2025-01-12T08:12:05.820094Z"
    },
    "jupyter": {
     "outputs_hidden": false
    },
    "papermill": {
     "duration": 0.301724,
     "end_time": "2025-01-12T08:12:05.823066",
     "exception": false,
     "start_time": "2025-01-12T08:12:05.521342",
     "status": "completed"
    },
    "tags": []
   },
   "outputs": [
    {
     "data": {
      "image/png": "[encoded data removed]",
      "text/plain": [
       "<Figure size 640x480 with 1 Axes>"
      ]
     },
     "metadata": {},
     "output_type": "display_data"
    }
   ],
   "source": [
    "import matplotlib.pyplot as plt\n",
    "fig, ax = plt.subplots()\n",
    "ax.bar(cement['label'].value_counts().index, cement['label'].value_counts().values)\n",
    "\n",
    "# Add labels and title\n",
    "ax.set_xlabel('Label Categories')  # x-axis label\n",
    "ax.set_ylabel('Count')         # y-axis label\n",
    "ax.set_title('Distribution of Each Label Category')  # plot title\n",
    "\n",
    "# Display the plot\n",
    "plt.show()"
   ]
  },
  {
   "cell_type": "code",
   "execution_count": 9,
   "id": "3b0b52aa",
   "metadata": {
    "_cell_guid": "09cfd73a-0ef7-484a-a5b6-e1756195d0f8",
    "_uuid": "18ed49c7-238a-4567-9f0d-5d675f23865a",
    "collapsed": false,
    "execution": {
     "iopub.execute_input": "2025-01-12T08:12:05.839612Z",
     "iopub.status.busy": "2025-01-12T08:12:05.839271Z",
     "iopub.status.idle": "2025-01-12T08:12:05.859453Z",
     "shell.execute_reply": "2025-01-12T08:12:05.858298Z"
    },
    "jupyter": {
     "outputs_hidden": false
    },
    "papermill": {
     "duration": 0.030399,
     "end_time": "2025-01-12T08:12:05.861250",
     "exception": false,
     "start_time": "2025-01-12T08:12:05.830851",
     "status": "completed"
    },
    "tags": []
   },
   "outputs": [
    {
     "data": {
      "text/html": [
       "<div>\n",
       "<style scoped>\n",
       "    .dataframe tbody tr th:only-of-type {\n",
       "        vertical-align: middle;\n",
       "    }\n",
       "\n",
       "    .dataframe tbody tr th {\n",
       "        vertical-align: top;\n",
       "    }\n",
       "\n",
       "    .dataframe thead th {\n",
       "        text-align: right;\n",
       "    }\n",
       "</style>\n",
       "<table border=\"1\" class=\"dataframe\">\n",
       "  <thead>\n",
       "    <tr style=\"text-align: right;\">\n",
       "      <th></th>\n",
       "      <th>cement</th>\n",
       "      <th>slag</th>\n",
       "      <th>ash</th>\n",
       "      <th>water</th>\n",
       "      <th>superplastic</th>\n",
       "      <th>coarseagg</th>\n",
       "      <th>fineagg</th>\n",
       "      <th>age</th>\n",
       "      <th>strength</th>\n",
       "      <th>label</th>\n",
       "    </tr>\n",
       "  </thead>\n",
       "  <tbody>\n",
       "    <tr>\n",
       "      <th>0</th>\n",
       "      <td>141.3</td>\n",
       "      <td>212.0</td>\n",
       "      <td>0.0</td>\n",
       "      <td>203.5</td>\n",
       "      <td>0.0</td>\n",
       "      <td>971.8</td>\n",
       "      <td>748.5</td>\n",
       "      <td>5</td>\n",
       "      <td>29.89</td>\n",
       "      <td>2</td>\n",
       "    </tr>\n",
       "    <tr>\n",
       "      <th>1</th>\n",
       "      <td>168.9</td>\n",
       "      <td>42.2</td>\n",
       "      <td>124.3</td>\n",
       "      <td>158.3</td>\n",
       "      <td>10.8</td>\n",
       "      <td>1080.8</td>\n",
       "      <td>796.2</td>\n",
       "      <td>4</td>\n",
       "      <td>23.51</td>\n",
       "      <td>2</td>\n",
       "    </tr>\n",
       "    <tr>\n",
       "      <th>2</th>\n",
       "      <td>250.0</td>\n",
       "      <td>0.0</td>\n",
       "      <td>95.7</td>\n",
       "      <td>187.4</td>\n",
       "      <td>5.5</td>\n",
       "      <td>956.9</td>\n",
       "      <td>861.2</td>\n",
       "      <td>5</td>\n",
       "      <td>29.22</td>\n",
       "      <td>2</td>\n",
       "    </tr>\n",
       "    <tr>\n",
       "      <th>3</th>\n",
       "      <td>266.0</td>\n",
       "      <td>114.0</td>\n",
       "      <td>0.0</td>\n",
       "      <td>228.0</td>\n",
       "      <td>0.0</td>\n",
       "      <td>932.0</td>\n",
       "      <td>670.0</td>\n",
       "      <td>5</td>\n",
       "      <td>45.85</td>\n",
       "      <td>4</td>\n",
       "    </tr>\n",
       "    <tr>\n",
       "      <th>4</th>\n",
       "      <td>154.8</td>\n",
       "      <td>183.4</td>\n",
       "      <td>0.0</td>\n",
       "      <td>193.3</td>\n",
       "      <td>9.1</td>\n",
       "      <td>1047.4</td>\n",
       "      <td>696.7</td>\n",
       "      <td>5</td>\n",
       "      <td>18.29</td>\n",
       "      <td>1</td>\n",
       "    </tr>\n",
       "  </tbody>\n",
       "</table>\n",
       "</div>"
      ],
      "text/plain": [
       "   cement   slag    ash  water  superplastic  coarseagg  fineagg  age  \\\n",
       "0   141.3  212.0    0.0  203.5           0.0      971.8    748.5    5   \n",
       "1   168.9   42.2  124.3  158.3          10.8     1080.8    796.2    4   \n",
       "2   250.0    0.0   95.7  187.4           5.5      956.9    861.2    5   \n",
       "3   266.0  114.0    0.0  228.0           0.0      932.0    670.0    5   \n",
       "4   154.8  183.4    0.0  193.3           9.1     1047.4    696.7    5   \n",
       "\n",
       "   strength  label  \n",
       "0     29.89      2  \n",
       "1     23.51      2  \n",
       "2     29.22      2  \n",
       "3     45.85      4  \n",
       "4     18.29      1  "
      ]
     },
     "execution_count": 9,
     "metadata": {},
     "output_type": "execute_result"
    }
   ],
   "source": [
    "unique_age = cement['age'].unique()\n",
    "unique_age.sort()\n",
    "age_dict={age:i+1 for i, age in enumerate(unique_age)}\n",
    "cement['age']=cement['age'].map(age_dict)\n",
    "cement.head()"
   ]
  },
  {
   "cell_type": "code",
   "execution_count": 10,
   "id": "cf35e8e0",
   "metadata": {
    "_cell_guid": "30aea8e2-8127-4dff-950e-6ba4d289a1b7",
    "_uuid": "1295d656-dd7a-44ea-8daa-9a44ddc7dcb4",
    "collapsed": false,
    "execution": {
     "iopub.execute_input": "2025-01-12T08:12:05.879444Z",
     "iopub.status.busy": "2025-01-12T08:12:05.879082Z",
     "iopub.status.idle": "2025-01-12T08:12:06.159637Z",
     "shell.execute_reply": "2025-01-12T08:12:06.158546Z"
    },
    "jupyter": {
     "outputs_hidden": false
    },
    "papermill": {
     "duration": 0.29165,
     "end_time": "2025-01-12T08:12:06.161211",
     "exception": false,
     "start_time": "2025-01-12T08:12:05.869561",
     "status": "completed"
    },
    "tags": []
   },
   "outputs": [
    {
     "data": {
      "image/png": "[encoded data removed]",
      "text/plain": [
       "<Figure size 640x480 with 1 Axes>"
      ]
     },
     "metadata": {},
     "output_type": "display_data"
    }
   ],
   "source": [
    "fig, ax = plt.subplots()\n",
    "ax.bar(cement['age'].value_counts().index, cement['age'].value_counts().values)\n",
    "\n",
    "ax.set_xlabel('Age Categories')  # x-axis label for age categories\n",
    "ax.set_ylabel('Count')       # y-axis label for frequency of each category\n",
    "ax.set_title('Distribution of Age Categories')  # plot title\n",
    "\n",
    "# Display the plot\n",
    "plt.show()"
   ]
  },
  {
   "cell_type": "code",
   "execution_count": 11,
   "id": "5c97d52d",
   "metadata": {
    "_cell_guid": "d3434e3e-01a8-4511-ba52-f75ac1b61c86",
    "_uuid": "b77aead4-392f-47ea-a12a-5e7a6e1be500",
    "collapsed": false,
    "execution": {
     "iopub.execute_input": "2025-01-12T08:12:06.179116Z",
     "iopub.status.busy": "2025-01-12T08:12:06.178735Z",
     "iopub.status.idle": "2025-01-12T08:12:06.213562Z",
     "shell.execute_reply": "2025-01-12T08:12:06.212377Z"
    },
    "jupyter": {
     "outputs_hidden": false
    },
    "papermill": {
     "duration": 0.045658,
     "end_time": "2025-01-12T08:12:06.215322",
     "exception": false,
     "start_time": "2025-01-12T08:12:06.169664",
     "status": "completed"
    },
    "tags": []
   },
   "outputs": [
    {
     "data": {
      "text/html": [
       "<div>\n",
       "<style scoped>\n",
       "    .dataframe tbody tr th:only-of-type {\n",
       "        vertical-align: middle;\n",
       "    }\n",
       "\n",
       "    .dataframe tbody tr th {\n",
       "        vertical-align: top;\n",
       "    }\n",
       "\n",
       "    .dataframe thead th {\n",
       "        text-align: right;\n",
       "    }\n",
       "</style>\n",
       "<table border=\"1\" class=\"dataframe\">\n",
       "  <thead>\n",
       "    <tr style=\"text-align: right;\">\n",
       "      <th></th>\n",
       "      <th>cement</th>\n",
       "      <th>slag</th>\n",
       "      <th>ash</th>\n",
       "      <th>water</th>\n",
       "      <th>superplastic</th>\n",
       "      <th>coarseagg</th>\n",
       "      <th>fineagg</th>\n",
       "      <th>age</th>\n",
       "      <th>strength</th>\n",
       "      <th>label</th>\n",
       "    </tr>\n",
       "  </thead>\n",
       "  <tbody>\n",
       "    <tr>\n",
       "      <th>count</th>\n",
       "      <td>1030.000000</td>\n",
       "      <td>1030.000000</td>\n",
       "      <td>1030.000000</td>\n",
       "      <td>1030.000000</td>\n",
       "      <td>1030.000000</td>\n",
       "      <td>1030.000000</td>\n",
       "      <td>1030.000000</td>\n",
       "      <td>1030.000000</td>\n",
       "      <td>1030.000000</td>\n",
       "      <td>1030.000000</td>\n",
       "    </tr>\n",
       "    <tr>\n",
       "      <th>mean</th>\n",
       "      <td>281.167864</td>\n",
       "      <td>73.895825</td>\n",
       "      <td>54.188350</td>\n",
       "      <td>181.567282</td>\n",
       "      <td>6.204660</td>\n",
       "      <td>972.918932</td>\n",
       "      <td>773.580485</td>\n",
       "      <td>5.179612</td>\n",
       "      <td>35.817961</td>\n",
       "      <td>2.994175</td>\n",
       "    </tr>\n",
       "    <tr>\n",
       "      <th>std</th>\n",
       "      <td>104.506364</td>\n",
       "      <td>86.279342</td>\n",
       "      <td>63.997004</td>\n",
       "      <td>21.354219</td>\n",
       "      <td>5.973841</td>\n",
       "      <td>77.753954</td>\n",
       "      <td>80.175980</td>\n",
       "      <td>2.469202</td>\n",
       "      <td>16.705742</td>\n",
       "      <td>1.393434</td>\n",
       "    </tr>\n",
       "    <tr>\n",
       "      <th>min</th>\n",
       "      <td>102.000000</td>\n",
       "      <td>0.000000</td>\n",
       "      <td>0.000000</td>\n",
       "      <td>121.800000</td>\n",
       "      <td>0.000000</td>\n",
       "      <td>801.000000</td>\n",
       "      <td>594.000000</td>\n",
       "      <td>1.000000</td>\n",
       "      <td>2.330000</td>\n",
       "      <td>1.000000</td>\n",
       "    </tr>\n",
       "    <tr>\n",
       "      <th>25%</th>\n",
       "      <td>192.375000</td>\n",
       "      <td>0.000000</td>\n",
       "      <td>0.000000</td>\n",
       "      <td>164.900000</td>\n",
       "      <td>0.000000</td>\n",
       "      <td>932.000000</td>\n",
       "      <td>730.950000</td>\n",
       "      <td>3.000000</td>\n",
       "      <td>23.710000</td>\n",
       "      <td>2.000000</td>\n",
       "    </tr>\n",
       "    <tr>\n",
       "      <th>50%</th>\n",
       "      <td>272.900000</td>\n",
       "      <td>22.000000</td>\n",
       "      <td>0.000000</td>\n",
       "      <td>185.000000</td>\n",
       "      <td>6.400000</td>\n",
       "      <td>968.000000</td>\n",
       "      <td>779.500000</td>\n",
       "      <td>5.000000</td>\n",
       "      <td>34.445000</td>\n",
       "      <td>3.000000</td>\n",
       "    </tr>\n",
       "    <tr>\n",
       "      <th>75%</th>\n",
       "      <td>350.000000</td>\n",
       "      <td>142.950000</td>\n",
       "      <td>118.300000</td>\n",
       "      <td>192.000000</td>\n",
       "      <td>10.200000</td>\n",
       "      <td>1029.400000</td>\n",
       "      <td>824.000000</td>\n",
       "      <td>6.000000</td>\n",
       "      <td>46.135000</td>\n",
       "      <td>4.000000</td>\n",
       "    </tr>\n",
       "    <tr>\n",
       "      <th>max</th>\n",
       "      <td>540.000000</td>\n",
       "      <td>359.400000</td>\n",
       "      <td>200.100000</td>\n",
       "      <td>247.000000</td>\n",
       "      <td>32.200000</td>\n",
       "      <td>1145.000000</td>\n",
       "      <td>992.600000</td>\n",
       "      <td>14.000000</td>\n",
       "      <td>82.600000</td>\n",
       "      <td>5.000000</td>\n",
       "    </tr>\n",
       "  </tbody>\n",
       "</table>\n",
       "</div>"
      ],
      "text/plain": [
       "            cement         slag          ash        water  superplastic  \\\n",
       "count  1030.000000  1030.000000  1030.000000  1030.000000   1030.000000   \n",
       "mean    281.167864    73.895825    54.188350   181.567282      6.204660   \n",
       "std     104.506364    86.279342    63.997004    21.354219      5.973841   \n",
       "min     102.000000     0.000000     0.000000   121.800000      0.000000   \n",
       "25%     192.375000     0.000000     0.000000   164.900000      0.000000   \n",
       "50%     272.900000    22.000000     0.000000   185.000000      6.400000   \n",
       "75%     350.000000   142.950000   118.300000   192.000000     10.200000   \n",
       "max     540.000000   359.400000   200.100000   247.000000     32.200000   \n",
       "\n",
       "         coarseagg      fineagg          age     strength        label  \n",
       "count  1030.000000  1030.000000  1030.000000  1030.000000  1030.000000  \n",
       "mean    972.918932   773.580485     5.179612    35.817961     2.994175  \n",
       "std      77.753954    80.175980     2.469202    16.705742     1.393434  \n",
       "min     801.000000   594.000000     1.000000     2.330000     1.000000  \n",
       "25%     932.000000   730.950000     3.000000    23.710000     2.000000  \n",
       "50%     968.000000   779.500000     5.000000    34.445000     3.000000  \n",
       "75%    1029.400000   824.000000     6.000000    46.135000     4.000000  \n",
       "max    1145.000000   992.600000    14.000000    82.600000     5.000000  "
      ]
     },
     "execution_count": 11,
     "metadata": {},
     "output_type": "execute_result"
    }
   ],
   "source": [
    "cement.describe()"
   ]
  },
  {
   "cell_type": "code",
   "execution_count": 12,
   "id": "32ae5f87",
   "metadata": {
    "_cell_guid": "0570f5ec-31a1-48d4-b36f-73ed95aa26ec",
    "_uuid": "f5a30a23-89da-41aa-9653-c52e0970a414",
    "collapsed": false,
    "execution": {
     "iopub.execute_input": "2025-01-12T08:12:06.234507Z",
     "iopub.status.busy": "2025-01-12T08:12:06.234058Z",
     "iopub.status.idle": "2025-01-12T08:12:06.249342Z",
     "shell.execute_reply": "2025-01-12T08:12:06.247884Z"
    },
    "jupyter": {
     "outputs_hidden": false
    },
    "papermill": {
     "duration": 0.027121,
     "end_time": "2025-01-12T08:12:06.251438",
     "exception": false,
     "start_time": "2025-01-12T08:12:06.224317",
     "status": "completed"
    },
    "tags": []
   },
   "outputs": [],
   "source": [
    "#normalize using minmaxscale \n",
    "\n",
    "cement_min_max_scale = ['cement', 'slag', 'ash', 'water', 'superplastic', 'coarseagg','fineagg']\n",
    "cement[cement_min_max_scale] = cement[cement_min_max_scale].apply(lambda x: (x - x.min()) / (x.max() - x.min()))"
   ]
  },
  {
   "cell_type": "code",
   "execution_count": 13,
   "id": "5f341026",
   "metadata": {
    "_cell_guid": "e22d1312-5193-4ee6-b9e1-46688641f9ba",
    "_uuid": "80d0fa99-2998-41a5-8322-9d1f3a6a9a2c",
    "collapsed": false,
    "execution": {
     "iopub.execute_input": "2025-01-12T08:12:06.270635Z",
     "iopub.status.busy": "2025-01-12T08:12:06.270269Z",
     "iopub.status.idle": "2025-01-12T08:12:06.284393Z",
     "shell.execute_reply": "2025-01-12T08:12:06.283256Z"
    },
    "jupyter": {
     "outputs_hidden": false
    },
    "papermill": {
     "duration": 0.02561,
     "end_time": "2025-01-12T08:12:06.286062",
     "exception": false,
     "start_time": "2025-01-12T08:12:06.260452",
     "status": "completed"
    },
    "tags": []
   },
   "outputs": [
    {
     "data": {
      "text/html": [
       "<div>\n",
       "<style scoped>\n",
       "    .dataframe tbody tr th:only-of-type {\n",
       "        vertical-align: middle;\n",
       "    }\n",
       "\n",
       "    .dataframe tbody tr th {\n",
       "        vertical-align: top;\n",
       "    }\n",
       "\n",
       "    .dataframe thead th {\n",
       "        text-align: right;\n",
       "    }\n",
       "</style>\n",
       "<table border=\"1\" class=\"dataframe\">\n",
       "  <thead>\n",
       "    <tr style=\"text-align: right;\">\n",
       "      <th></th>\n",
       "      <th>cement</th>\n",
       "      <th>slag</th>\n",
       "      <th>ash</th>\n",
       "      <th>water</th>\n",
       "      <th>superplastic</th>\n",
       "      <th>coarseagg</th>\n",
       "      <th>fineagg</th>\n",
       "      <th>age</th>\n",
       "      <th>strength</th>\n",
       "      <th>label</th>\n",
       "    </tr>\n",
       "  </thead>\n",
       "  <tbody>\n",
       "    <tr>\n",
       "      <th>0</th>\n",
       "      <td>0.089726</td>\n",
       "      <td>0.589872</td>\n",
       "      <td>0.000000</td>\n",
       "      <td>0.652556</td>\n",
       "      <td>0.000000</td>\n",
       "      <td>0.496512</td>\n",
       "      <td>0.387607</td>\n",
       "      <td>5</td>\n",
       "      <td>29.89</td>\n",
       "      <td>2</td>\n",
       "    </tr>\n",
       "    <tr>\n",
       "      <th>1</th>\n",
       "      <td>0.152740</td>\n",
       "      <td>0.117418</td>\n",
       "      <td>0.621189</td>\n",
       "      <td>0.291534</td>\n",
       "      <td>0.335404</td>\n",
       "      <td>0.813372</td>\n",
       "      <td>0.507275</td>\n",
       "      <td>4</td>\n",
       "      <td>23.51</td>\n",
       "      <td>2</td>\n",
       "    </tr>\n",
       "    <tr>\n",
       "      <th>2</th>\n",
       "      <td>0.337900</td>\n",
       "      <td>0.000000</td>\n",
       "      <td>0.478261</td>\n",
       "      <td>0.523962</td>\n",
       "      <td>0.170807</td>\n",
       "      <td>0.453198</td>\n",
       "      <td>0.670346</td>\n",
       "      <td>5</td>\n",
       "      <td>29.22</td>\n",
       "      <td>2</td>\n",
       "    </tr>\n",
       "    <tr>\n",
       "      <th>3</th>\n",
       "      <td>0.374429</td>\n",
       "      <td>0.317195</td>\n",
       "      <td>0.000000</td>\n",
       "      <td>0.848243</td>\n",
       "      <td>0.000000</td>\n",
       "      <td>0.380814</td>\n",
       "      <td>0.190667</td>\n",
       "      <td>5</td>\n",
       "      <td>45.85</td>\n",
       "      <td>4</td>\n",
       "    </tr>\n",
       "    <tr>\n",
       "      <th>4</th>\n",
       "      <td>0.120548</td>\n",
       "      <td>0.510295</td>\n",
       "      <td>0.000000</td>\n",
       "      <td>0.571086</td>\n",
       "      <td>0.282609</td>\n",
       "      <td>0.716279</td>\n",
       "      <td>0.257652</td>\n",
       "      <td>5</td>\n",
       "      <td>18.29</td>\n",
       "      <td>1</td>\n",
       "    </tr>\n",
       "  </tbody>\n",
       "</table>\n",
       "</div>"
      ],
      "text/plain": [
       "     cement      slag       ash     water  superplastic  coarseagg   fineagg  \\\n",
       "0  0.089726  0.589872  0.000000  0.652556      0.000000   0.496512  0.387607   \n",
       "1  0.152740  0.117418  0.621189  0.291534      0.335404   0.813372  0.507275   \n",
       "2  0.337900  0.000000  0.478261  0.523962      0.170807   0.453198  0.670346   \n",
       "3  0.374429  0.317195  0.000000  0.848243      0.000000   0.380814  0.190667   \n",
       "4  0.120548  0.510295  0.000000  0.571086      0.282609   0.716279  0.257652   \n",
       "\n",
       "   age  strength  label  \n",
       "0    5     29.89      2  \n",
       "1    4     23.51      2  \n",
       "2    5     29.22      2  \n",
       "3    5     45.85      4  \n",
       "4    5     18.29      1  "
      ]
     },
     "execution_count": 13,
     "metadata": {},
     "output_type": "execute_result"
    }
   ],
   "source": [
    "cement.head()"
   ]
  },
  {
   "cell_type": "code",
   "execution_count": 14,
   "id": "3d582cda",
   "metadata": {
    "_cell_guid": "5a78b070-6e1e-4523-a811-5fbe873857f4",
    "_uuid": "2a27c7c7-b22d-430c-bde4-d9e265b1c445",
    "collapsed": false,
    "execution": {
     "iopub.execute_input": "2025-01-12T08:12:06.306236Z",
     "iopub.status.busy": "2025-01-12T08:12:06.305826Z",
     "iopub.status.idle": "2025-01-12T08:12:06.320879Z",
     "shell.execute_reply": "2025-01-12T08:12:06.319974Z"
    },
    "jupyter": {
     "outputs_hidden": false
    },
    "papermill": {
     "duration": 0.027047,
     "end_time": "2025-01-12T08:12:06.322476",
     "exception": false,
     "start_time": "2025-01-12T08:12:06.295429",
     "status": "completed"
    },
    "tags": []
   },
   "outputs": [
    {
     "data": {
      "text/html": [
       "<div>\n",
       "<style scoped>\n",
       "    .dataframe tbody tr th:only-of-type {\n",
       "        vertical-align: middle;\n",
       "    }\n",
       "\n",
       "    .dataframe tbody tr th {\n",
       "        vertical-align: top;\n",
       "    }\n",
       "\n",
       "    .dataframe thead th {\n",
       "        text-align: right;\n",
       "    }\n",
       "</style>\n",
       "<table border=\"1\" class=\"dataframe\">\n",
       "  <thead>\n",
       "    <tr style=\"text-align: right;\">\n",
       "      <th></th>\n",
       "      <th>cement</th>\n",
       "      <th>slag</th>\n",
       "      <th>ash</th>\n",
       "      <th>water</th>\n",
       "      <th>superplastic</th>\n",
       "      <th>coarseagg</th>\n",
       "      <th>fineagg</th>\n",
       "      <th>age</th>\n",
       "      <th>strength</th>\n",
       "      <th>label</th>\n",
       "    </tr>\n",
       "  </thead>\n",
       "  <tbody>\n",
       "    <tr>\n",
       "      <th>0</th>\n",
       "      <td>0.089726</td>\n",
       "      <td>0.589872</td>\n",
       "      <td>0.000000</td>\n",
       "      <td>0.652556</td>\n",
       "      <td>0.000000</td>\n",
       "      <td>0.496512</td>\n",
       "      <td>0.387607</td>\n",
       "      <td>5</td>\n",
       "      <td>29.89</td>\n",
       "      <td>2</td>\n",
       "    </tr>\n",
       "    <tr>\n",
       "      <th>1</th>\n",
       "      <td>0.152740</td>\n",
       "      <td>0.117418</td>\n",
       "      <td>0.621189</td>\n",
       "      <td>0.291534</td>\n",
       "      <td>0.335404</td>\n",
       "      <td>0.813372</td>\n",
       "      <td>0.507275</td>\n",
       "      <td>4</td>\n",
       "      <td>23.51</td>\n",
       "      <td>2</td>\n",
       "    </tr>\n",
       "    <tr>\n",
       "      <th>2</th>\n",
       "      <td>0.337900</td>\n",
       "      <td>0.000000</td>\n",
       "      <td>0.478261</td>\n",
       "      <td>0.523962</td>\n",
       "      <td>0.170807</td>\n",
       "      <td>0.453198</td>\n",
       "      <td>0.670346</td>\n",
       "      <td>5</td>\n",
       "      <td>29.22</td>\n",
       "      <td>2</td>\n",
       "    </tr>\n",
       "    <tr>\n",
       "      <th>3</th>\n",
       "      <td>0.374429</td>\n",
       "      <td>0.317195</td>\n",
       "      <td>0.000000</td>\n",
       "      <td>0.848243</td>\n",
       "      <td>0.000000</td>\n",
       "      <td>0.380814</td>\n",
       "      <td>0.190667</td>\n",
       "      <td>5</td>\n",
       "      <td>45.85</td>\n",
       "      <td>4</td>\n",
       "    </tr>\n",
       "    <tr>\n",
       "      <th>4</th>\n",
       "      <td>0.120548</td>\n",
       "      <td>0.510295</td>\n",
       "      <td>0.000000</td>\n",
       "      <td>0.571086</td>\n",
       "      <td>0.282609</td>\n",
       "      <td>0.716279</td>\n",
       "      <td>0.257652</td>\n",
       "      <td>5</td>\n",
       "      <td>18.29</td>\n",
       "      <td>1</td>\n",
       "    </tr>\n",
       "  </tbody>\n",
       "</table>\n",
       "</div>"
      ],
      "text/plain": [
       "     cement      slag       ash     water  superplastic  coarseagg   fineagg  \\\n",
       "0  0.089726  0.589872  0.000000  0.652556      0.000000   0.496512  0.387607   \n",
       "1  0.152740  0.117418  0.621189  0.291534      0.335404   0.813372  0.507275   \n",
       "2  0.337900  0.000000  0.478261  0.523962      0.170807   0.453198  0.670346   \n",
       "3  0.374429  0.317195  0.000000  0.848243      0.000000   0.380814  0.190667   \n",
       "4  0.120548  0.510295  0.000000  0.571086      0.282609   0.716279  0.257652   \n",
       "\n",
       "   age  strength  label  \n",
       "0    5     29.89      2  \n",
       "1    4     23.51      2  \n",
       "2    5     29.22      2  \n",
       "3    5     45.85      4  \n",
       "4    5     18.29      1  "
      ]
     },
     "execution_count": 14,
     "metadata": {},
     "output_type": "execute_result"
    }
   ],
   "source": [
    "normalized_concrete = cement.copy()\n",
    "normalized_concrete.head()"
   ]
  },
  {
   "cell_type": "code",
   "execution_count": 15,
   "id": "e58e6455",
   "metadata": {
    "_cell_guid": "a5f64acf-16df-4598-8a83-7eba805394ff",
    "_uuid": "b5a00980-cbb0-4e89-970d-72ad4167436f",
    "collapsed": false,
    "execution": {
     "iopub.execute_input": "2025-01-12T08:12:06.341661Z",
     "iopub.status.busy": "2025-01-12T08:12:06.341313Z",
     "iopub.status.idle": "2025-01-12T08:12:06.358544Z",
     "shell.execute_reply": "2025-01-12T08:12:06.357680Z"
    },
    "jupyter": {
     "outputs_hidden": false
    },
    "papermill": {
     "duration": 0.029032,
     "end_time": "2025-01-12T08:12:06.360550",
     "exception": false,
     "start_time": "2025-01-12T08:12:06.331518",
     "status": "completed"
    },
    "tags": []
   },
   "outputs": [],
   "source": [
    "normalized_concrete.to_csv('normalized_concrete.csv')"
   ]
  },
  {
   "cell_type": "code",
   "execution_count": 16,
   "id": "01816b6d",
   "metadata": {
    "_cell_guid": "6211dc80-0467-4c3b-b526-c752f6449eac",
    "_uuid": "778430e4-8ef6-43ca-a0f1-1e2ccc04f2b4",
    "collapsed": false,
    "execution": {
     "iopub.execute_input": "2025-01-12T08:12:06.379958Z",
     "iopub.status.busy": "2025-01-12T08:12:06.379581Z",
     "iopub.status.idle": "2025-01-12T08:12:06.401428Z",
     "shell.execute_reply": "2025-01-12T08:12:06.400335Z"
    },
    "jupyter": {
     "outputs_hidden": false
    },
    "papermill": {
     "duration": 0.033477,
     "end_time": "2025-01-12T08:12:06.403140",
     "exception": false,
     "start_time": "2025-01-12T08:12:06.369663",
     "status": "completed"
    },
    "tags": []
   },
   "outputs": [
    {
     "data": {
      "text/html": [
       "<div>\n",
       "<style scoped>\n",
       "    .dataframe tbody tr th:only-of-type {\n",
       "        vertical-align: middle;\n",
       "    }\n",
       "\n",
       "    .dataframe tbody tr th {\n",
       "        vertical-align: top;\n",
       "    }\n",
       "\n",
       "    .dataframe thead th {\n",
       "        text-align: right;\n",
       "    }\n",
       "</style>\n",
       "<table border=\"1\" class=\"dataframe\">\n",
       "  <thead>\n",
       "    <tr style=\"text-align: right;\">\n",
       "      <th></th>\n",
       "      <th>cement</th>\n",
       "      <th>slag</th>\n",
       "      <th>ash</th>\n",
       "      <th>water</th>\n",
       "      <th>superplastic</th>\n",
       "      <th>coarseagg</th>\n",
       "      <th>fineagg</th>\n",
       "      <th>age</th>\n",
       "      <th>strength</th>\n",
       "      <th>label</th>\n",
       "      <th>cement_slag</th>\n",
       "      <th>cement_ash</th>\n",
       "      <th>water_fineagg</th>\n",
       "      <th>ash_superplastic</th>\n",
       "    </tr>\n",
       "  </thead>\n",
       "  <tbody>\n",
       "    <tr>\n",
       "      <th>0</th>\n",
       "      <td>0.089726</td>\n",
       "      <td>0.589872</td>\n",
       "      <td>0.000000</td>\n",
       "      <td>0.652556</td>\n",
       "      <td>0.000000</td>\n",
       "      <td>0.496512</td>\n",
       "      <td>0.387607</td>\n",
       "      <td>5</td>\n",
       "      <td>29.89</td>\n",
       "      <td>2</td>\n",
       "      <td>-0.015764</td>\n",
       "      <td>-0.030331</td>\n",
       "      <td>-0.015461</td>\n",
       "      <td>0.022399</td>\n",
       "    </tr>\n",
       "    <tr>\n",
       "      <th>1</th>\n",
       "      <td>0.152740</td>\n",
       "      <td>0.117418</td>\n",
       "      <td>0.621189</td>\n",
       "      <td>0.291534</td>\n",
       "      <td>0.335404</td>\n",
       "      <td>0.813372</td>\n",
       "      <td>0.507275</td>\n",
       "      <td>4</td>\n",
       "      <td>23.51</td>\n",
       "      <td>2</td>\n",
       "      <td>-0.015764</td>\n",
       "      <td>-0.030331</td>\n",
       "      <td>-0.015461</td>\n",
       "      <td>0.022399</td>\n",
       "    </tr>\n",
       "    <tr>\n",
       "      <th>2</th>\n",
       "      <td>0.337900</td>\n",
       "      <td>0.000000</td>\n",
       "      <td>0.478261</td>\n",
       "      <td>0.523962</td>\n",
       "      <td>0.170807</td>\n",
       "      <td>0.453198</td>\n",
       "      <td>0.670346</td>\n",
       "      <td>5</td>\n",
       "      <td>29.22</td>\n",
       "      <td>2</td>\n",
       "      <td>-0.015764</td>\n",
       "      <td>-0.030331</td>\n",
       "      <td>-0.015461</td>\n",
       "      <td>0.022399</td>\n",
       "    </tr>\n",
       "    <tr>\n",
       "      <th>3</th>\n",
       "      <td>0.374429</td>\n",
       "      <td>0.317195</td>\n",
       "      <td>0.000000</td>\n",
       "      <td>0.848243</td>\n",
       "      <td>0.000000</td>\n",
       "      <td>0.380814</td>\n",
       "      <td>0.190667</td>\n",
       "      <td>5</td>\n",
       "      <td>45.85</td>\n",
       "      <td>4</td>\n",
       "      <td>-0.015764</td>\n",
       "      <td>-0.030331</td>\n",
       "      <td>-0.015461</td>\n",
       "      <td>0.022399</td>\n",
       "    </tr>\n",
       "    <tr>\n",
       "      <th>4</th>\n",
       "      <td>0.120548</td>\n",
       "      <td>0.510295</td>\n",
       "      <td>0.000000</td>\n",
       "      <td>0.571086</td>\n",
       "      <td>0.282609</td>\n",
       "      <td>0.716279</td>\n",
       "      <td>0.257652</td>\n",
       "      <td>5</td>\n",
       "      <td>18.29</td>\n",
       "      <td>1</td>\n",
       "      <td>-0.015764</td>\n",
       "      <td>-0.030331</td>\n",
       "      <td>-0.015461</td>\n",
       "      <td>0.022399</td>\n",
       "    </tr>\n",
       "  </tbody>\n",
       "</table>\n",
       "</div>"
      ],
      "text/plain": [
       "     cement      slag       ash     water  superplastic  coarseagg   fineagg  \\\n",
       "0  0.089726  0.589872  0.000000  0.652556      0.000000   0.496512  0.387607   \n",
       "1  0.152740  0.117418  0.621189  0.291534      0.335404   0.813372  0.507275   \n",
       "2  0.337900  0.000000  0.478261  0.523962      0.170807   0.453198  0.670346   \n",
       "3  0.374429  0.317195  0.000000  0.848243      0.000000   0.380814  0.190667   \n",
       "4  0.120548  0.510295  0.000000  0.571086      0.282609   0.716279  0.257652   \n",
       "\n",
       "   age  strength  label  cement_slag  cement_ash  water_fineagg  \\\n",
       "0    5     29.89      2    -0.015764   -0.030331      -0.015461   \n",
       "1    4     23.51      2    -0.015764   -0.030331      -0.015461   \n",
       "2    5     29.22      2    -0.015764   -0.030331      -0.015461   \n",
       "3    5     45.85      4    -0.015764   -0.030331      -0.015461   \n",
       "4    5     18.29      1    -0.015764   -0.030331      -0.015461   \n",
       "\n",
       "   ash_superplastic  \n",
       "0          0.022399  \n",
       "1          0.022399  \n",
       "2          0.022399  \n",
       "3          0.022399  \n",
       "4          0.022399  "
      ]
     },
     "execution_count": 16,
     "metadata": {},
     "output_type": "execute_result"
    }
   ],
   "source": [
    "# Composite features \n",
    "cement['cement_slag'] = cement['cement'].cov(cement['slag'])\n",
    "cement['cement_ash'] = cement['cement'].cov(cement['ash'])\n",
    "cement['water_fineagg'] = cement['water'].cov(cement['fineagg'])\n",
    "cement['ash_superplastic'] = cement['ash'].cov(cement['superplastic'])\n",
    "composite_features = cement.copy()\n",
    "composite_features.head()"
   ]
  },
  {
   "cell_type": "code",
   "execution_count": 17,
   "id": "fb413f4a",
   "metadata": {
    "_cell_guid": "30a27c45-a044-4520-9186-f6a941d859b4",
    "_uuid": "05caf3c7-46a9-4183-bd6d-d83efc45a351",
    "collapsed": false,
    "execution": {
     "iopub.execute_input": "2025-01-12T08:12:06.423233Z",
     "iopub.status.busy": "2025-01-12T08:12:06.422841Z",
     "iopub.status.idle": "2025-01-12T08:12:06.446838Z",
     "shell.execute_reply": "2025-01-12T08:12:06.445748Z"
    },
    "jupyter": {
     "outputs_hidden": false
    },
    "papermill": {
     "duration": 0.035984,
     "end_time": "2025-01-12T08:12:06.448743",
     "exception": false,
     "start_time": "2025-01-12T08:12:06.412759",
     "status": "completed"
    },
    "tags": []
   },
   "outputs": [],
   "source": [
    "composite_features.to_csv('features_concrete.csv')"
   ]
  },
  {
   "cell_type": "code",
   "execution_count": 18,
   "id": "9f1f1119",
   "metadata": {
    "_cell_guid": "de5eb1e8-d946-4730-8589-76aa4671517f",
    "_uuid": "2b086f17-e7e0-463b-a491-8b4da9e0d2a9",
    "collapsed": false,
    "execution": {
     "iopub.execute_input": "2025-01-12T08:12:06.468669Z",
     "iopub.status.busy": "2025-01-12T08:12:06.468321Z",
     "iopub.status.idle": "2025-01-12T08:12:06.480009Z",
     "shell.execute_reply": "2025-01-12T08:12:06.479003Z"
    },
    "jupyter": {
     "outputs_hidden": false
    },
    "papermill": {
     "duration": 0.023482,
     "end_time": "2025-01-12T08:12:06.481603",
     "exception": false,
     "start_time": "2025-01-12T08:12:06.458121",
     "status": "completed"
    },
    "tags": []
   },
   "outputs": [
    {
     "name": "stdout",
     "output_type": "stream",
     "text": [
      "cement          0.497832\n",
      "water          -0.289633\n",
      "superplastic    0.366079\n",
      "age             0.474690\n",
      "dtype: float64\n"
     ]
    }
   ],
   "source": [
    "corr_dict = ['cement', 'water', 'superplastic', 'age']\n",
    "corr = cement[corr_dict].corrwith(cement['strength'])\n",
    "print(corr)"
   ]
  },
  {
   "cell_type": "code",
   "execution_count": 19,
   "id": "fccc5ee2",
   "metadata": {
    "_cell_guid": "424f7264-990f-44f7-a83f-f2b28967d965",
    "_uuid": "200a8103-d6bd-4726-ad9f-0650cf05cf1c",
    "collapsed": false,
    "execution": {
     "iopub.execute_input": "2025-01-12T08:12:06.501568Z",
     "iopub.status.busy": "2025-01-12T08:12:06.501160Z",
     "iopub.status.idle": "2025-01-12T08:12:06.518112Z",
     "shell.execute_reply": "2025-01-12T08:12:06.516894Z"
    },
    "jupyter": {
     "outputs_hidden": false
    },
    "papermill": {
     "duration": 0.02858,
     "end_time": "2025-01-12T08:12:06.519626",
     "exception": false,
     "start_time": "2025-01-12T08:12:06.491046",
     "status": "completed"
    },
    "tags": []
   },
   "outputs": [
    {
     "name": "stdout",
     "output_type": "stream",
     "text": [
      "<class 'pandas.core.frame.DataFrame'>\n",
      "RangeIndex: 1030 entries, 0 to 1029\n",
      "Data columns (total 10 columns):\n",
      " #   Column            Non-Null Count  Dtype  \n",
      "---  ------            --------------  -----  \n",
      " 0   cement            1030 non-null   float64\n",
      " 1   water             1030 non-null   float64\n",
      " 2   superplastic      1030 non-null   float64\n",
      " 3   age               1030 non-null   int64  \n",
      " 4   cement_slag       1030 non-null   float64\n",
      " 5   cement_ash        1030 non-null   float64\n",
      " 6   water_fineagg     1030 non-null   float64\n",
      " 7   ash_superplastic  1030 non-null   float64\n",
      " 8   strength          1030 non-null   float64\n",
      " 9   label             1030 non-null   int64  \n",
      "dtypes: float64(8), int64(2)\n",
      "memory usage: 80.6 KB\n"
     ]
    }
   ],
   "source": [
    "corr_dict = ['cement', 'water', 'superplastic', 'age', 'cement_slag', 'cement_ash', 'water_fineagg', 'ash_superplastic', 'strength', 'label']\n",
    "select_feature_concrete = cement[corr_dict]\n",
    "select_feature_concrete.info()"
   ]
  },
  {
   "cell_type": "code",
   "execution_count": 20,
   "id": "52529527",
   "metadata": {
    "_cell_guid": "036eab9d-415d-4b14-abb0-59b822865aa7",
    "_uuid": "902fa38e-bfd6-4f09-8db9-51c8277c7ec7",
    "collapsed": false,
    "execution": {
     "iopub.execute_input": "2025-01-12T08:12:06.539590Z",
     "iopub.status.busy": "2025-01-12T08:12:06.539235Z",
     "iopub.status.idle": "2025-01-12T08:12:06.553284Z",
     "shell.execute_reply": "2025-01-12T08:12:06.552156Z"
    },
    "jupyter": {
     "outputs_hidden": false
    },
    "papermill": {
     "duration": 0.025975,
     "end_time": "2025-01-12T08:12:06.554977",
     "exception": false,
     "start_time": "2025-01-12T08:12:06.529002",
     "status": "completed"
    },
    "tags": []
   },
   "outputs": [
    {
     "data": {
      "text/html": [
       "<div>\n",
       "<style scoped>\n",
       "    .dataframe tbody tr th:only-of-type {\n",
       "        vertical-align: middle;\n",
       "    }\n",
       "\n",
       "    .dataframe tbody tr th {\n",
       "        vertical-align: top;\n",
       "    }\n",
       "\n",
       "    .dataframe thead th {\n",
       "        text-align: right;\n",
       "    }\n",
       "</style>\n",
       "<table border=\"1\" class=\"dataframe\">\n",
       "  <thead>\n",
       "    <tr style=\"text-align: right;\">\n",
       "      <th></th>\n",
       "      <th>cement</th>\n",
       "      <th>water</th>\n",
       "      <th>superplastic</th>\n",
       "      <th>age</th>\n",
       "      <th>cement_slag</th>\n",
       "      <th>cement_ash</th>\n",
       "      <th>water_fineagg</th>\n",
       "      <th>ash_superplastic</th>\n",
       "      <th>strength</th>\n",
       "      <th>label</th>\n",
       "    </tr>\n",
       "  </thead>\n",
       "  <tbody>\n",
       "    <tr>\n",
       "      <th>0</th>\n",
       "      <td>0.089726</td>\n",
       "      <td>0.652556</td>\n",
       "      <td>0.000000</td>\n",
       "      <td>5</td>\n",
       "      <td>-0.015764</td>\n",
       "      <td>-0.030331</td>\n",
       "      <td>-0.015461</td>\n",
       "      <td>0.022399</td>\n",
       "      <td>29.89</td>\n",
       "      <td>2</td>\n",
       "    </tr>\n",
       "    <tr>\n",
       "      <th>1</th>\n",
       "      <td>0.152740</td>\n",
       "      <td>0.291534</td>\n",
       "      <td>0.335404</td>\n",
       "      <td>4</td>\n",
       "      <td>-0.015764</td>\n",
       "      <td>-0.030331</td>\n",
       "      <td>-0.015461</td>\n",
       "      <td>0.022399</td>\n",
       "      <td>23.51</td>\n",
       "      <td>2</td>\n",
       "    </tr>\n",
       "    <tr>\n",
       "      <th>2</th>\n",
       "      <td>0.337900</td>\n",
       "      <td>0.523962</td>\n",
       "      <td>0.170807</td>\n",
       "      <td>5</td>\n",
       "      <td>-0.015764</td>\n",
       "      <td>-0.030331</td>\n",
       "      <td>-0.015461</td>\n",
       "      <td>0.022399</td>\n",
       "      <td>29.22</td>\n",
       "      <td>2</td>\n",
       "    </tr>\n",
       "    <tr>\n",
       "      <th>3</th>\n",
       "      <td>0.374429</td>\n",
       "      <td>0.848243</td>\n",
       "      <td>0.000000</td>\n",
       "      <td>5</td>\n",
       "      <td>-0.015764</td>\n",
       "      <td>-0.030331</td>\n",
       "      <td>-0.015461</td>\n",
       "      <td>0.022399</td>\n",
       "      <td>45.85</td>\n",
       "      <td>4</td>\n",
       "    </tr>\n",
       "    <tr>\n",
       "      <th>4</th>\n",
       "      <td>0.120548</td>\n",
       "      <td>0.571086</td>\n",
       "      <td>0.282609</td>\n",
       "      <td>5</td>\n",
       "      <td>-0.015764</td>\n",
       "      <td>-0.030331</td>\n",
       "      <td>-0.015461</td>\n",
       "      <td>0.022399</td>\n",
       "      <td>18.29</td>\n",
       "      <td>1</td>\n",
       "    </tr>\n",
       "  </tbody>\n",
       "</table>\n",
       "</div>"
      ],
      "text/plain": [
       "     cement     water  superplastic  age  cement_slag  cement_ash  \\\n",
       "0  0.089726  0.652556      0.000000    5    -0.015764   -0.030331   \n",
       "1  0.152740  0.291534      0.335404    4    -0.015764   -0.030331   \n",
       "2  0.337900  0.523962      0.170807    5    -0.015764   -0.030331   \n",
       "3  0.374429  0.848243      0.000000    5    -0.015764   -0.030331   \n",
       "4  0.120548  0.571086      0.282609    5    -0.015764   -0.030331   \n",
       "\n",
       "   water_fineagg  ash_superplastic  strength  label  \n",
       "0      -0.015461          0.022399     29.89      2  \n",
       "1      -0.015461          0.022399     23.51      2  \n",
       "2      -0.015461          0.022399     29.22      2  \n",
       "3      -0.015461          0.022399     45.85      4  \n",
       "4      -0.015461          0.022399     18.29      1  "
      ]
     },
     "execution_count": 20,
     "metadata": {},
     "output_type": "execute_result"
    }
   ],
   "source": [
    "select_feature_concrete.head()"
   ]
  },
  {
   "cell_type": "code",
   "execution_count": 21,
   "id": "ca836ad3",
   "metadata": {
    "_cell_guid": "81c6fb54-ff16-4ed4-8a0c-0da2e700b333",
    "_uuid": "e1d640f8-f4b4-4e7e-b429-18332e6af435",
    "collapsed": false,
    "execution": {
     "iopub.execute_input": "2025-01-12T08:12:06.576137Z",
     "iopub.status.busy": "2025-01-12T08:12:06.575751Z",
     "iopub.status.idle": "2025-01-12T08:12:06.593997Z",
     "shell.execute_reply": "2025-01-12T08:12:06.593044Z"
    },
    "jupyter": {
     "outputs_hidden": false
    },
    "papermill": {
     "duration": 0.031021,
     "end_time": "2025-01-12T08:12:06.596232",
     "exception": false,
     "start_time": "2025-01-12T08:12:06.565211",
     "status": "completed"
    },
    "tags": []
   },
   "outputs": [],
   "source": [
    "select_feature_concrete.to_csv('selected_feature_concrete.csv')"
   ]
  },
  {
   "cell_type": "code",
   "execution_count": 22,
   "id": "e58b271b",
   "metadata": {
    "_cell_guid": "b0ab5188-d284-4435-83cc-76a88146a220",
    "_uuid": "c1f6bcd7-6b6f-439a-9479-ca20f3ee6683",
    "collapsed": false,
    "execution": {
     "iopub.execute_input": "2025-01-12T08:12:06.617482Z",
     "iopub.status.busy": "2025-01-12T08:12:06.617102Z",
     "iopub.status.idle": "2025-01-12T08:12:06.636000Z",
     "shell.execute_reply": "2025-01-12T08:12:06.634786Z"
    },
    "jupyter": {
     "outputs_hidden": false
    },
    "papermill": {
     "duration": 0.031933,
     "end_time": "2025-01-12T08:12:06.637782",
     "exception": false,
     "start_time": "2025-01-12T08:12:06.605849",
     "status": "completed"
    },
    "tags": []
   },
   "outputs": [
    {
     "data": {
      "text/html": [
       "<div>\n",
       "<style scoped>\n",
       "    .dataframe tbody tr th:only-of-type {\n",
       "        vertical-align: middle;\n",
       "    }\n",
       "\n",
       "    .dataframe tbody tr th {\n",
       "        vertical-align: top;\n",
       "    }\n",
       "\n",
       "    .dataframe thead th {\n",
       "        text-align: right;\n",
       "    }\n",
       "</style>\n",
       "<table border=\"1\" class=\"dataframe\">\n",
       "  <thead>\n",
       "    <tr style=\"text-align: right;\">\n",
       "      <th></th>\n",
       "      <th>Unnamed: 0</th>\n",
       "      <th>cement</th>\n",
       "      <th>slag</th>\n",
       "      <th>ash</th>\n",
       "      <th>water</th>\n",
       "      <th>superplastic</th>\n",
       "      <th>coarseagg</th>\n",
       "      <th>fineagg</th>\n",
       "      <th>age</th>\n",
       "      <th>strength</th>\n",
       "      <th>label</th>\n",
       "    </tr>\n",
       "  </thead>\n",
       "  <tbody>\n",
       "    <tr>\n",
       "      <th>0</th>\n",
       "      <td>0</td>\n",
       "      <td>141.3</td>\n",
       "      <td>212.0</td>\n",
       "      <td>0.0</td>\n",
       "      <td>203.5</td>\n",
       "      <td>0.0</td>\n",
       "      <td>971.8</td>\n",
       "      <td>748.5</td>\n",
       "      <td>28</td>\n",
       "      <td>29.89</td>\n",
       "      <td>2</td>\n",
       "    </tr>\n",
       "    <tr>\n",
       "      <th>1</th>\n",
       "      <td>1</td>\n",
       "      <td>168.9</td>\n",
       "      <td>42.2</td>\n",
       "      <td>124.3</td>\n",
       "      <td>158.3</td>\n",
       "      <td>10.8</td>\n",
       "      <td>1080.8</td>\n",
       "      <td>796.2</td>\n",
       "      <td>14</td>\n",
       "      <td>23.51</td>\n",
       "      <td>2</td>\n",
       "    </tr>\n",
       "    <tr>\n",
       "      <th>2</th>\n",
       "      <td>2</td>\n",
       "      <td>250.0</td>\n",
       "      <td>0.0</td>\n",
       "      <td>95.7</td>\n",
       "      <td>187.4</td>\n",
       "      <td>5.5</td>\n",
       "      <td>956.9</td>\n",
       "      <td>861.2</td>\n",
       "      <td>28</td>\n",
       "      <td>29.22</td>\n",
       "      <td>2</td>\n",
       "    </tr>\n",
       "    <tr>\n",
       "      <th>3</th>\n",
       "      <td>3</td>\n",
       "      <td>266.0</td>\n",
       "      <td>114.0</td>\n",
       "      <td>0.0</td>\n",
       "      <td>228.0</td>\n",
       "      <td>0.0</td>\n",
       "      <td>932.0</td>\n",
       "      <td>670.0</td>\n",
       "      <td>28</td>\n",
       "      <td>45.85</td>\n",
       "      <td>4</td>\n",
       "    </tr>\n",
       "    <tr>\n",
       "      <th>4</th>\n",
       "      <td>4</td>\n",
       "      <td>154.8</td>\n",
       "      <td>183.4</td>\n",
       "      <td>0.0</td>\n",
       "      <td>193.3</td>\n",
       "      <td>9.1</td>\n",
       "      <td>1047.4</td>\n",
       "      <td>696.7</td>\n",
       "      <td>28</td>\n",
       "      <td>18.29</td>\n",
       "      <td>1</td>\n",
       "    </tr>\n",
       "  </tbody>\n",
       "</table>\n",
       "</div>"
      ],
      "text/plain": [
       "   Unnamed: 0  cement   slag    ash  water  superplastic  coarseagg  fineagg  \\\n",
       "0           0   141.3  212.0    0.0  203.5           0.0      971.8    748.5   \n",
       "1           1   168.9   42.2  124.3  158.3          10.8     1080.8    796.2   \n",
       "2           2   250.0    0.0   95.7  187.4           5.5      956.9    861.2   \n",
       "3           3   266.0  114.0    0.0  228.0           0.0      932.0    670.0   \n",
       "4           4   154.8  183.4    0.0  193.3           9.1     1047.4    696.7   \n",
       "\n",
       "   age  strength  label  \n",
       "0   28     29.89      2  \n",
       "1   14     23.51      2  \n",
       "2   28     29.22      2  \n",
       "3   28     45.85      4  \n",
       "4   28     18.29      1  "
      ]
     },
     "execution_count": 22,
     "metadata": {},
     "output_type": "execute_result"
    }
   ],
   "source": [
    "cemented = pd.read_csv('convert_concrete.csv') \n",
    "\n",
    "cemented.head()"
   ]
  },
  {
   "cell_type": "code",
   "execution_count": 23,
   "id": "b0211888",
   "metadata": {
    "_cell_guid": "86b75e34-8a6c-4ef4-acb8-751164d15f2e",
    "_uuid": "5bdc83e8-15ab-4a9b-9fef-e2df29eecc6c",
    "collapsed": false,
    "execution": {
     "iopub.execute_input": "2025-01-12T08:12:06.658966Z",
     "iopub.status.busy": "2025-01-12T08:12:06.658569Z",
     "iopub.status.idle": "2025-01-12T08:12:06.671540Z",
     "shell.execute_reply": "2025-01-12T08:12:06.670276Z"
    },
    "jupyter": {
     "outputs_hidden": false
    },
    "papermill": {
     "duration": 0.025891,
     "end_time": "2025-01-12T08:12:06.673678",
     "exception": false,
     "start_time": "2025-01-12T08:12:06.647787",
     "status": "completed"
    },
    "tags": []
   },
   "outputs": [],
   "source": [
    "cemented.to_csv('selected_converted_concrete.csv')"
   ]
  },
  {
   "cell_type": "code",
   "execution_count": 24,
   "id": "122334e8",
   "metadata": {
    "_cell_guid": "02591d9c-d721-4787-977e-c9b4b059801c",
    "_uuid": "f3e3f11f-da42-463e-9eab-5cc26918f30b",
    "collapsed": false,
    "execution": {
     "iopub.execute_input": "2025-01-12T08:12:06.695290Z",
     "iopub.status.busy": "2025-01-12T08:12:06.694891Z",
     "iopub.status.idle": "2025-01-12T08:12:08.409380Z",
     "shell.execute_reply": "2025-01-12T08:12:08.408075Z"
    },
    "jupyter": {
     "outputs_hidden": false
    },
    "papermill": {
     "duration": 1.727235,
     "end_time": "2025-01-12T08:12:08.411210",
     "exception": false,
     "start_time": "2025-01-12T08:12:06.683975",
     "status": "completed"
    },
    "tags": []
   },
   "outputs": [
    {
     "name": "stdout",
     "output_type": "stream",
     "text": [
      "Accuracy:  0.6213592233009708\n"
     ]
    }
   ],
   "source": [
    "from sklearn import metrics \n",
    "from sklearn.tree import DecisionTreeClassifier \n",
    "from sklearn.model_selection import train_test_split \n",
    " \n",
    "concrete = pd.read_csv(\"/kaggle/working/features_concrete.csv\") \n",
    "\n",
    "feature_cols = ['cement', 'water', 'superplastic', 'age'] \n",
    "x = concrete[feature_cols] # Feature\n",
    "y = concrete['label']  \n",
    "x_train, x_test, y_train, y_test = train_test_split(x, y, test_size=0.3)  \n",
    " \n",
    "clf = DecisionTreeClassifier()  \n",
    "\n",
    "clf = clf.fit(x_train, y_train)  \n",
    "\n",
    "y_pred = clf.predict(x_test)  \n",
    "\n",
    "print(\"Accuracy: \", metrics.accuracy_score(y_test, y_pred))"
   ]
  },
  {
   "cell_type": "code",
   "execution_count": 25,
   "id": "92034927",
   "metadata": {
    "_cell_guid": "333aa781-a16d-4999-956a-db68c4198b8f",
    "_uuid": "ac67fc37-f00c-496f-941b-5f8bff6b1048",
    "collapsed": false,
    "execution": {
     "iopub.execute_input": "2025-01-12T08:12:08.432673Z",
     "iopub.status.busy": "2025-01-12T08:12:08.432301Z",
     "iopub.status.idle": "2025-01-12T08:12:08.451367Z",
     "shell.execute_reply": "2025-01-12T08:12:08.449940Z"
    },
    "jupyter": {
     "outputs_hidden": false
    },
    "papermill": {
     "duration": 0.03179,
     "end_time": "2025-01-12T08:12:08.453175",
     "exception": false,
     "start_time": "2025-01-12T08:12:08.421385",
     "status": "completed"
    },
    "tags": []
   },
   "outputs": [
    {
     "name": "stdout",
     "output_type": "stream",
     "text": [
      "Accuracy:  0.6245954692556634\n"
     ]
    }
   ],
   "source": [
    "# Train Model Decision Tree with all features with normalisation and without composite features\n",
    "concrete1 = pd.read_csv(\"/kaggle/working/normalized_concrete.csv\") \n",
    "\n",
    "x1 = concrete1[feature_cols] # Feature\n",
    "y1 = concrete1['label'] \n",
    "x1_train, x1_test, y1_train, y1_test = train_test_split(x1, y1, test_size=0.3, random_state = 1)  \n",
    " \n",
    "clf = DecisionTreeClassifier()  \n",
    "\n",
    "clf = clf.fit(x1_train, y1_train)  \n",
    "\n",
    "y1_pred = clf.predict(x1_test)  \n",
    "\n",
    "print(\"Accuracy: \", metrics.accuracy_score(y1_test, y1_pred))"
   ]
  },
  {
   "cell_type": "code",
   "execution_count": 26,
   "id": "d1089825",
   "metadata": {
    "_cell_guid": "e53502c5-75ed-4b13-a4ad-08c7383e21a5",
    "_uuid": "e94aad92-a10c-41d5-9418-4290805a72f9",
    "collapsed": false,
    "execution": {
     "iopub.execute_input": "2025-01-12T08:12:08.474349Z",
     "iopub.status.busy": "2025-01-12T08:12:08.473947Z",
     "iopub.status.idle": "2025-01-12T08:12:08.499164Z",
     "shell.execute_reply": "2025-01-12T08:12:08.497697Z"
    },
    "jupyter": {
     "outputs_hidden": false
    },
    "papermill": {
     "duration": 0.038153,
     "end_time": "2025-01-12T08:12:08.501209",
     "exception": false,
     "start_time": "2025-01-12T08:12:08.463056",
     "status": "completed"
    },
    "tags": []
   },
   "outputs": [
    {
     "name": "stdout",
     "output_type": "stream",
     "text": [
      "Accuracy:  0.6343042071197411\n"
     ]
    }
   ],
   "source": [
    "# selected features with normalisation\n",
    "concrete2 = pd.read_csv(\"/kaggle/working/features_concrete.csv\") \n",
    "\n",
    "x2 = concrete2[feature_cols] # Feature\n",
    "y2 = concrete2['label'] \n",
    "x2_train, x2_test, y2_train, y2_test = train_test_split(x2, y2, test_size=0.3, random_state = 1)  \n",
    " \n",
    "clf = DecisionTreeClassifier()  \n",
    "\n",
    "clf = clf.fit(x2_train, y2_train)  \n",
    "\n",
    "y2_pred = clf.predict(x2_test)  \n",
    "\n",
    "print(\"Accuracy: \", metrics.accuracy_score(y2_test, y2_pred))"
   ]
  },
  {
   "cell_type": "code",
   "execution_count": 27,
   "id": "ab230465",
   "metadata": {
    "_cell_guid": "62fecf04-1f79-4386-a29f-2376ad1d62bd",
    "_uuid": "5e831262-bf3f-4c13-a04d-7d48e750d698",
    "collapsed": false,
    "execution": {
     "iopub.execute_input": "2025-01-12T08:12:08.522861Z",
     "iopub.status.busy": "2025-01-12T08:12:08.522477Z",
     "iopub.status.idle": "2025-01-12T08:12:08.541597Z",
     "shell.execute_reply": "2025-01-12T08:12:08.540048Z"
    },
    "jupyter": {
     "outputs_hidden": false
    },
    "papermill": {
     "duration": 0.032047,
     "end_time": "2025-01-12T08:12:08.543435",
     "exception": false,
     "start_time": "2025-01-12T08:12:08.511388",
     "status": "completed"
    },
    "tags": []
   },
   "outputs": [
    {
     "name": "stdout",
     "output_type": "stream",
     "text": [
      "Accuracy:  0.627831715210356\n"
     ]
    }
   ],
   "source": [
    "# selected features with normalisation\n",
    "concrete3 = pd.read_csv(\"/kaggle/working/selected_feature_concrete.csv\") \n",
    "\n",
    "x3 = concrete3[feature_cols] # Feature\n",
    "y3 = concrete3['label'] \n",
    "x3_train, x3_test, y3_train, y3_test = train_test_split(x3, y3, test_size=0.3, random_state = 1)  \n",
    " \n",
    "clf = DecisionTreeClassifier()  \n",
    "\n",
    "clf = clf.fit(x3_train, y3_train)  \n",
    "\n",
    "y3_pred = clf.predict(x3_test)  \n",
    "\n",
    "print(\"Accuracy: \", metrics.accuracy_score(y3_test, y3_pred))"
   ]
  },
  {
   "cell_type": "code",
   "execution_count": 28,
   "id": "a09d6eea",
   "metadata": {
    "execution": {
     "iopub.execute_input": "2025-01-12T08:12:08.565011Z",
     "iopub.status.busy": "2025-01-12T08:12:08.564610Z",
     "iopub.status.idle": "2025-01-12T08:12:08.582990Z",
     "shell.execute_reply": "2025-01-12T08:12:08.581797Z"
    },
    "papermill": {
     "duration": 0.031895,
     "end_time": "2025-01-12T08:12:08.585343",
     "exception": false,
     "start_time": "2025-01-12T08:12:08.553448",
     "status": "completed"
    },
    "tags": []
   },
   "outputs": [
    {
     "name": "stdout",
     "output_type": "stream",
     "text": [
      "Accuracy:  0.6343042071197411\n"
     ]
    }
   ],
   "source": [
    "# selected feature without normalisation\n",
    "concrete4 = pd.read_csv(\"/kaggle/working/selected_converted_concrete.csv\") \n",
    "\n",
    "x4 = concrete4[feature_cols] # Feature\n",
    "y4 = concrete4['label'] \n",
    "x4_train, x4_test, y4_train, y4_test = train_test_split(x4, y4, test_size=0.3, random_state = 1)  \n",
    " \n",
    "clf = DecisionTreeClassifier()  \n",
    "\n",
    "clf = clf.fit(x4_train, y4_train)  \n",
    "\n",
    "y4_pred = clf.predict(x4_test)  \n",
    "\n",
    "print(\"Accuracy: \", metrics.accuracy_score(y4_test, y4_pred))"
   ]
  }
 ],
 "metadata": {
  "kaggle": {
   "accelerator": "none",
   "dataSources": [
    {
     "datasetId": 1459683,
     "sourceId": 2412893,
     "sourceType": "datasetVersion"
    }
   ],
   "dockerImageVersionId": 30822,
   "isGpuEnabled": false,
   "isInternetEnabled": false,
   "language": "python",
   "sourceType": "notebook"
  },
  "kernelspec": {
   "display_name": "Python 3",
   "language": "python",
   "name": "python3"
  },
  "language_info": {
   "codemirror_mode": {
    "name": "ipython",
    "version": 3
   },
   "file_extension": ".py",
   "mimetype": "text/x-python",
   "name": "python",
   "nbconvert_exporter": "python",
   "pygments_lexer": "ipython3",
   "version": "3.10.12"
  },
  "papermill": {
   "default_parameters": {},
   "duration": 7.653699,
   "end_time": "2025-01-12T08:12:09.320123",
   "environment_variables": {},
   "exception": null,
   "input_path": "__notebook__.ipynb",
   "output_path": "__notebook__.ipynb",
   "parameters": {},
   "start_time": "2025-01-12T08:12:01.666424",
   "version": "2.6.0"
  }
 },
 "nbformat": 4,
 "nbformat_minor": 5
}
